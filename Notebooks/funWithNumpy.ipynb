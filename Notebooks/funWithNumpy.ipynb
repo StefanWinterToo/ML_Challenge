{
 "metadata": {
  "language_info": {
   "codemirror_mode": {
    "name": "ipython",
    "version": 3
   },
   "file_extension": ".py",
   "mimetype": "text/x-python",
   "name": "python",
   "nbconvert_exporter": "python",
   "pygments_lexer": "ipython3",
   "version": "3.7.3"
  },
  "orig_nbformat": 4,
  "kernelspec": {
   "name": "python3",
   "display_name": "Python 3.7.3 64-bit"
  },
  "interpreter": {
   "hash": "31f2aee4e71d21fbe5cf8b01ff0e069b9275f58929596ceb00d14d90e3e16cd6"
  }
 },
 "nbformat": 4,
 "nbformat_minor": 2,
 "cells": [
  {
   "cell_type": "code",
   "execution_count": 5,
   "metadata": {},
   "outputs": [],
   "source": [
    "data = [[['12', '22', '22', '17', '22'],\n",
    "  ['18', '18', '18', '18', '18'],\n",
    "  ['5', '5', '7', '7', '7'],\n",
    "  ['13', '12', '12', '13', '19']],\n",
    " [['24', '24', '24', '24', '24'],\n",
    "  ['23', '23', '23', '23', '23'],\n",
    "  ['14', '14', '14', '14', '14'],\n",
    "  ['16', '16', '16', '16', '16'],\n",
    "  ['13', '13', '13', '13', '13']],\n",
    " [['23', '3', '3', '23', '19'],\n",
    "  ['20', '20', '20', '20', '20'],\n",
    "  ['16', '16', '10', '10', '10'],\n",
    "  ['7', '7', '7', '16', '17']],\n",
    " [['22', '22', '22', '22', '22'],\n",
    "  ['4', '4', '24', '24', '24'],\n",
    "  ['4', '18', '18', '4', '14'],\n",
    "  ['24', '8', '8', '8', '8'],\n",
    "  ['3', '19', '19', '19', '19']],\n",
    " [['20', '20', '21', '21', '21'],\n",
    "  ['14', '14', '14', '14', '14'],\n",
    "  ['14', '14', '14', '14', '14']],\n",
    " [['20', '15', '15', '15', '23'],\n",
    "  ['0', '0', '13', '16', '16'],\n",
    "  ['7', '7', '7', '7', '7'],\n",
    "  ['7', '7', '7', '7', '7'],\n",
    "  ['8', '17', '17', '17', '20']],\n",
    " [['12', '12', '12', '12', '24'],\n",
    "  ['10', '10', '23', '7', '7'],\n",
    "  ['23', '23', '23', '23', '23'],\n",
    "  ['20', '20', '20', '20', '19'],\n",
    "  ['5', '19', '19', '7', '7']],\n",
    " [['18', '18', '18', '0', '8'],\n",
    "  ['7', '7', '7', '7', '7'],\n",
    "  ['19', '19', '19', '19', '19'],\n",
    "  ['8', '8', '8', '8', '24']],\n",
    " [['15', '15', '15', '15', '7'],\n",
    "  ['18', '8', '8', '8', '8'],\n",
    "  ['23', '23', '6', '6', '6'],\n",
    "  ['15', '15', '15', '15', '7']],\n",
    " [['13', '3', '3', '3', '3'],\n",
    "  ['8', '8', '3', '3', '3'],\n",
    "  ['11', '11', '11', '11', '11'],\n",
    "  ['15', '23', '22', '22', '22'],\n",
    "  ['20', '3', '3', '20', '20']]]"
   ]
  },
  {
   "cell_type": "code",
   "execution_count": 33,
   "metadata": {},
   "outputs": [],
   "source": [
    "import numpy"
   ]
  },
  {
   "cell_type": "code",
   "execution_count": 34,
   "metadata": {},
   "outputs": [
    {
     "output_type": "stream",
     "name": "stdout",
     "text": [
      "[['12' '22' '22' '17' '22']\n",
      " ['18' '18' '18' '18' '18']\n",
      " ['5' '5' '7' '7' '7']\n",
      " ['13' '12' '12' '13' '19']]\n",
      "[['24' '24' '24' '24' '24']\n",
      " ['23' '23' '23' '23' '23']\n",
      " ['14' '14' '14' '14' '14']\n",
      " ['16' '16' '16' '16' '16']\n",
      " ['13' '13' '13' '13' '13']]\n",
      "[['23' '3' '3' '23' '19']\n",
      " ['20' '20' '20' '20' '20']\n",
      " ['16' '16' '10' '10' '10']\n",
      " ['7' '7' '7' '16' '17']]\n",
      "[['22' '22' '22' '22' '22']\n",
      " ['4' '4' '24' '24' '24']\n",
      " ['4' '18' '18' '4' '14']\n",
      " ['24' '8' '8' '8' '8']\n",
      " ['3' '19' '19' '19' '19']]\n",
      "[['20' '20' '21' '21' '21']\n",
      " ['14' '14' '14' '14' '14']\n",
      " ['14' '14' '14' '14' '14']]\n",
      "[['20' '15' '15' '15' '23']\n",
      " ['0' '0' '13' '16' '16']\n",
      " ['7' '7' '7' '7' '7']\n",
      " ['7' '7' '7' '7' '7']\n",
      " ['8' '17' '17' '17' '20']]\n",
      "[['12' '12' '12' '12' '24']\n",
      " ['10' '10' '23' '7' '7']\n",
      " ['23' '23' '23' '23' '23']\n",
      " ['20' '20' '20' '20' '19']\n",
      " ['5' '19' '19' '7' '7']]\n",
      "[['18' '18' '18' '0' '8']\n",
      " ['7' '7' '7' '7' '7']\n",
      " ['19' '19' '19' '19' '19']\n",
      " ['8' '8' '8' '8' '24']]\n",
      "[['15' '15' '15' '15' '7']\n",
      " ['18' '8' '8' '8' '8']\n",
      " ['23' '23' '6' '6' '6']\n",
      " ['15' '15' '15' '15' '7']]\n",
      "[['13' '3' '3' '3' '3']\n",
      " ['8' '8' '3' '3' '3']\n",
      " ['11' '11' '11' '11' '11']\n",
      " ['15' '23' '22' '22' '22']\n",
      " ['20' '3' '3' '20' '20']]\n",
      "/Users/stefanwinter/Library/Python/3.7/lib/python/site-packages/ipykernel_launcher.py:1: VisibleDeprecationWarning: Creating an ndarray from ragged nested sequences (which is a list-or-tuple of lists-or-tuples-or ndarrays with different lengths or shapes) is deprecated. If you meant to do this, you must specify 'dtype=object' when creating the ndarray\n",
      "  \"\"\"Entry point for launching an IPython kernel.\n"
     ]
    }
   ],
   "source": [
    "n = numpy.array(data)\n",
    "for entry in n:\n",
    "    print(numpy.array(entry))"
   ]
  },
  {
   "cell_type": "code",
   "execution_count": 86,
   "metadata": {
    "tags": []
   },
   "outputs": [
    {
     "output_type": "stream",
     "name": "stdout",
     "text": [
      "1218513,2218512,2218712,1718713,2218719\n",
      "2423141613,2423141613,2423141613,2423141613,2423141613\n",
      "2320167,320167,320107,23201016,19201017\n",
      "2244243,22418819,222418819,22244819,222414819\n",
      "201414,201414,211414,211414,211414\n",
      "200778,1507717,15137717,15167717,23167720\n",
      "121023205,1210232019,1223232019,12723207,24723197\n",
      "187198,187198,187198,07198,871924\n",
      "15182315,1582315,158615,158615,7867\n",
      "138111520,3811233,3311223,33112220,33112220\n",
      "/Users/stefanwinter/Library/Python/3.7/lib/python/site-packages/ipykernel_launcher.py:2: VisibleDeprecationWarning: Creating an ndarray from ragged nested sequences (which is a list-or-tuple of lists-or-tuples-or ndarrays with different lengths or shapes) is deprecated. If you meant to do this, you must specify 'dtype=object' when creating the ndarray\n",
      "  \n"
     ]
    }
   ],
   "source": [
    "# Convert numpy array to comma separated strings by row\n",
    "n = numpy.array(data)\n",
    "string = \"\"\n",
    "for entry in n:\n",
    "    for i, row in enumerate(numpy.swapaxes(numpy.array(entry), 0, 1)):\n",
    "        if(i<4):\n",
    "            for k, element in enumerate(row):\n",
    "                if k >= 0:\n",
    "                    string = string + element\n",
    "            string = string + \",\"\n",
    "        else:\n",
    "            for k, element in enumerate(row):\n",
    "                string = string + element\n",
    "            print(string)\n",
    "            string = \"\""
   ]
  },
  {
   "cell_type": "code",
   "execution_count": 81,
   "metadata": {},
   "outputs": [],
   "source": [
    "import csv"
   ]
  },
  {
   "cell_type": "code",
   "execution_count": 85,
   "metadata": {},
   "outputs": [],
   "source": [
    "file = \"/Users/stefanwinter/Local/ML_Challenge/data/predictions_all_images/preds.csv\"\n",
    "open(file, \"a\").close()"
   ]
  },
  {
   "cell_type": "code",
   "execution_count": 100,
   "metadata": {},
   "outputs": [
    {
     "output_type": "stream",
     "name": "stderr",
     "text": [
      "/Users/stefanwinter/Library/Python/3.7/lib/python/site-packages/ipykernel_launcher.py:4: VisibleDeprecationWarning: Creating an ndarray from ragged nested sequences (which is a list-or-tuple of lists-or-tuples-or ndarrays with different lengths or shapes) is deprecated. If you meant to do this, you must specify 'dtype=object' when creating the ndarray\n  after removing the cwd from sys.path.\n"
     ]
    },
    {
     "output_type": "error",
     "ename": "Error",
     "evalue": "need to escape, but no escapechar set",
     "traceback": [
      "\u001b[0;31m---------------------------------------------------------------------------\u001b[0m",
      "\u001b[0;31mError\u001b[0m                                     Traceback (most recent call last)",
      "\u001b[0;32m<ipython-input-100-425862d45b01>\u001b[0m in \u001b[0;36m<module>\u001b[0;34m\u001b[0m\n\u001b[1;32m     15\u001b[0m                     \u001b[0mstring\u001b[0m \u001b[0;34m=\u001b[0m \u001b[0mstring\u001b[0m \u001b[0;34m+\u001b[0m \u001b[0melement\u001b[0m\u001b[0;34m\u001b[0m\u001b[0;34m\u001b[0m\u001b[0m\n\u001b[1;32m     16\u001b[0m                 \u001b[0mwriter\u001b[0m \u001b[0;34m=\u001b[0m \u001b[0mcsv\u001b[0m\u001b[0;34m.\u001b[0m\u001b[0mwriter\u001b[0m\u001b[0;34m(\u001b[0m\u001b[0mf\u001b[0m\u001b[0;34m,\u001b[0m \u001b[0mdelimiter\u001b[0m \u001b[0;34m=\u001b[0m \u001b[0;34m\",\"\u001b[0m\u001b[0;34m,\u001b[0m \u001b[0mquoting\u001b[0m\u001b[0;34m=\u001b[0m\u001b[0mcsv\u001b[0m\u001b[0;34m.\u001b[0m\u001b[0mQUOTE_NONE\u001b[0m\u001b[0;34m)\u001b[0m\u001b[0;34m\u001b[0m\u001b[0;34m\u001b[0m\u001b[0m\n\u001b[0;32m---> 17\u001b[0;31m                 \u001b[0mwriter\u001b[0m\u001b[0;34m.\u001b[0m\u001b[0mwriterow\u001b[0m\u001b[0;34m(\u001b[0m\u001b[0mstring\u001b[0m\u001b[0;34m)\u001b[0m\u001b[0;34m\u001b[0m\u001b[0;34m\u001b[0m\u001b[0m\n\u001b[0m\u001b[1;32m     18\u001b[0m                 \u001b[0mstring\u001b[0m \u001b[0;34m=\u001b[0m \u001b[0;34m\"\"\u001b[0m\u001b[0;34m\u001b[0m\u001b[0;34m\u001b[0m\u001b[0m\n\u001b[1;32m     19\u001b[0m     \u001b[0mf\u001b[0m\u001b[0;34m.\u001b[0m\u001b[0mclose\u001b[0m\u001b[0;34m(\u001b[0m\u001b[0;34m)\u001b[0m\u001b[0;34m\u001b[0m\u001b[0;34m\u001b[0m\u001b[0m\n",
      "\u001b[0;31mError\u001b[0m: need to escape, but no escapechar set"
     ]
    }
   ],
   "source": [
    "# Convert numpy array to comma separated strings by row\n",
    "\n",
    "with open(file, \"w\") as f:\n",
    "    n = numpy.array(data)\n",
    "    string = \"\"\n",
    "    for entry in n:\n",
    "        for i, row in enumerate(numpy.swapaxes(numpy.array(entry), 0, 1)):\n",
    "            if(i<4):\n",
    "                for k, element in enumerate(row):\n",
    "                    if k >= 0:\n",
    "                        string = string + element\n",
    "                string = string + \",\"\n",
    "            else:\n",
    "                for k, element in enumerate(row):\n",
    "                    string = string + element\n",
    "                writer = csv.writer(f, delimiter = \",\", quoting=csv.QUOTE_NONE)\n",
    "                writer.writerow(string)\n",
    "                string = \"\"\n",
    "    f.close()"
   ]
  },
  {
   "cell_type": "code",
   "execution_count": 14,
   "metadata": {},
   "outputs": [],
   "source": [
    "data2 = [['12180513', '22180512', '22180712', '17180713', '22180719'], ['2423141613', '2423141613', '2423141613', '2423141613', '2423141613'], ['23201607', '03201607', '03201007', '23201016', '19201017'], ['2204042403', '2204180819', '2224180819', '2224040819', '2224140819'], ['201414', '201414', '211414', '211414', '211414'], ['2000070708', '1500070717', '1513070717', '1516070717', '2316070720'], ['1210232005', '1210232019', '1223232019', '1207232007', '2407231907'], ['18071908', '18071908', '18071908', '00071908', '08071924'], ['15182315', '15082315', '15080615', '15080615', '07080607'], ['1308111520', '0308112303', '0303112203', '0303112220', '0303112220']]"
   ]
  },
  {
   "cell_type": "code",
   "execution_count": 16,
   "metadata": {},
   "outputs": [
    {
     "output_type": "stream",
     "name": "stdout",
     "text": [
      "['12180513', '22180512', '22180712', '17180713', '22180719']\n['2423141613', '2423141613', '2423141613', '2423141613', '2423141613']\n['23201607', '03201607', '03201007', '23201016', '19201017']\n['2204042403', '2204180819', '2224180819', '2224040819', '2224140819']\n['201414', '201414', '211414', '211414', '211414']\n['2000070708', '1500070717', '1513070717', '1516070717', '2316070720']\n['1210232005', '1210232019', '1223232019', '1207232007', '2407231907']\n['18071908', '18071908', '18071908', '00071908', '08071924']\n['15182315', '15082315', '15080615', '15080615', '07080607']\n['1308111520', '0308112303', '0303112203', '0303112220', '0303112220']\n"
     ]
    }
   ],
   "source": [
    "for row in data2:\n",
    "    print(row)"
   ]
  },
  {
   "cell_type": "code",
   "execution_count": 13,
   "metadata": {},
   "outputs": [
    {
     "output_type": "stream",
     "name": "stdout",
     "text": [
      "4\n5\n4\n5\n3\n5\n5\n4\n4\n5\n"
     ]
    }
   ],
   "source": [
    "for row in data:\n",
    "    print(len(row))"
   ]
  },
  {
   "cell_type": "code",
   "execution_count": 121,
   "metadata": {},
   "outputs": [],
   "source": [
    "# Convert numpy array to comma separated strings by row\n",
    "\n",
    "with open(file, \"w\") as f:\n",
    "    n = numpy.array(data)\n",
    "    string = \"\"\n",
    "    for entry in n:\n",
    "        if(i<4):\n",
    "            for k, element in enumerate(row):\n",
    "                if k >= 0:\n",
    "                    string = string + element\n",
    "            string = string + \",\"\n",
    "        else:\n",
    "            for k, element in enumerate(row):\n",
    "                string = string + element\n",
    "            writer = csv.writer(f, delimiter = \",\", escapechar=' ', quoting=csv.QUOTE_NONE)\n",
    "            writer.writerow([string])\n",
    "            string = \"\"\n",
    "    f.close()"
   ]
  },
  {
   "cell_type": "code",
   "execution_count": 128,
   "metadata": {},
   "outputs": [
    {
     "output_type": "stream",
     "name": "stdout",
     "text": [
      "['12180513', '22180512', '22180712', '17180713', '22180719']\n['2423141613', '2423141613', '2423141613', '2423141613', '2423141613']\n['23201607', '03201607', '03201007', '23201016', '19201017']\n['2204042403', '2204180819', '2224180819', '2224040819', '2224140819']\n['201414', '201414', '211414', '211414', '211414']\n['2000070708', '1500070717', '1513070717', '1516070717', '2316070720']\n['1210232005', '1210232019', '1223232019', '1207232007', '2407231907']\n['18071908', '18071908', '18071908', '00071908', '08071924']\n['15182315', '15082315', '15080615', '15080615', '07080607']\n['1308111520', '0308112303', '0303112203', '0303112220', '0303112220']\n"
     ]
    }
   ],
   "source": [
    "with open(file, \"w\") as f:\n",
    "    for row in data:\n",
    "        w = csv.writer(f, dialect=\"excel\")\n",
    "        w.wirterow(row)"
   ]
  },
  {
   "cell_type": "code",
   "execution_count": 1,
   "metadata": {},
   "outputs": [],
   "source": [
    "data = [['12180513', '22180512', '22180712', '17180713', '22180719'],\n",
    " ['2423141613', '2423141613', '2423141613', '2423141613', '2423141613'],\n",
    " ['23201607', '03201607', '03201007', '23201016', '19201017'],\n",
    " ['2204042403', '2204180819', '2224180819', '2224040819', '2224140819'],\n",
    " ['201414', '201414', '211414', '211414', '211414'],\n",
    " ['2000070708', '1500070717', '1513070717', '1516070717', '2316070720'],\n",
    " ['1210232005', '1210232019', '1223232019', '1207232007', '2407231907'],\n",
    " ['18071908', '18071908', '18071908', '00071908', '08071924'],\n",
    " ['15182315', '15082315', '15080615', '15080615', '07080607'],\n",
    " ['1308111520', '0308112303', '0303112203', '0303112220', '0303112220']]"
   ]
  },
  {
   "cell_type": "code",
   "execution_count": 31,
   "metadata": {},
   "outputs": [],
   "source": [
    "import numpy\n",
    "import csv"
   ]
  },
  {
   "cell_type": "code",
   "execution_count": 32,
   "metadata": {},
   "outputs": [],
   "source": [
    "file = \"/Users/stefanwinter/Local/ML_Challenge/data/predictions_all_images/preds.csv\"\n",
    "open(file, \"a\").close()\n",
    "\n",
    "string = \"\"\n",
    "\n",
    "with open(file, \"w\") as f:\n",
    "    n = numpy.array(data2)\n",
    "    string = \"\"\n",
    "    for i, row in enumerate(n):\n",
    "        for i, element in enumerate(row):\n",
    "            if i <= 4:\n",
    "                string = string + element + \",\"\n",
    "            else:\n",
    "                string = string + element\n",
    "        writer = csv.writer(f, delimiter = \" \", escapechar=' ', quoting=csv.QUOTE_NONE)\n",
    "        writer.writerow([string])\n",
    "        string = \"\"\n",
    "    f.close\n"
   ]
  },
  {
   "cell_type": "code",
   "execution_count": null,
   "metadata": {},
   "outputs": [],
   "source": [
    "        open(file, \"a\").close()\n",
    "        with open(file, \"w\") as f:\n",
    "            n = np.array([data])\n",
    "            string = \"\"\n",
    "            for entry in n:\n",
    "                for i, row in enumerate(np.swapaxes(np.array(entry), 0, 1)):\n",
    "                    if(i<4):\n",
    "                        for k, element in enumerate(row):\n",
    "                            if k >= 0:\n",
    "                                string = string + element\n",
    "                        string = string + \",\"\n",
    "                    else:\n",
    "                        for k, element in enumerate(row):\n",
    "                            string = string + element\n",
    "                        writer = csv.writer(f, delimiter = \" \", escapechar=' ', quoting=csv.QUOTE_NONE)\n",
    "                        writer.writerow([string])\n",
    "                        string = \"\"\n",
    "            f.close()"
   ]
  },
  {
   "cell_type": "code",
   "execution_count": 17,
   "metadata": {},
   "outputs": [
    {
     "output_type": "stream",
     "name": "stdout",
     "text": [
      "['12180513', '22180512', '22180712', '17180713', '22180719']\n['2423141613', '2423141613', '2423141613', '2423141613', '2423141613']\n['23201607', '03201607', '03201007', '23201016', '19201017']\n['2204042403', '2204180819', '2224180819', '2224040819', '2224140819']\n['201414', '201414', '211414', '211414', '211414']\n['2000070708', '1500070717', '1513070717', '1516070717', '2316070720']\n['1210232005', '1210232019', '1223232019', '1207232007', '2407231907']\n['18071908', '18071908', '18071908', '00071908', '08071924']\n['15182315', '15082315', '15080615', '15080615', '07080607']\n['1308111520', '0308112303', '0303112203', '0303112220', '0303112220']\n"
     ]
    }
   ],
   "source": [
    "for row in data2:\n",
    "    print(row)"
   ]
  },
  {
   "cell_type": "code",
   "execution_count": null,
   "metadata": {},
   "outputs": [],
   "source": []
  }
 ]
}