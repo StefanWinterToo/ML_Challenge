{
 "cells": [
  {
   "cell_type": "markdown",
   "metadata": {},
   "source": [
    "# Assignment 2B\n",
    "### Joost Schutte (12736023) & Dennis Lenferink (13397788)\n",
    "<br>"
   ]
  },
  {
   "cell_type": "markdown",
   "metadata": {},
   "source": [
    "# Introduction\n",
    "Below, we first import all the necessary models and functions from the scikitlearn library."
   ]
  },
  {
   "cell_type": "code",
   "execution_count": 1,
   "metadata": {},
   "outputs": [],
   "source": [
    "import pandas as pd \n",
    "import numpy as np\n",
    "import matplotlib.pyplot as plt\n",
    "\n",
    "from sklearn.preprocessing import StandardScaler, MinMaxScaler\n",
    "from sklearn.linear_model import LogisticRegression\n",
    "from sklearn.model_selection import train_test_split, GridSearchCV, StratifiedShuffleSplit\n",
    "from sklearn.metrics import classification_report, roc_auc_score\n",
    "from sklearn.pipeline import make_pipeline\n",
    "from sklearn.svm import LinearSVC\n",
    "from sklearn.neighbors import KNeighborsClassifier\n",
    "from sklearn.tree import DecisionTreeClassifier\n",
    "from sklearn.ensemble import RandomForestClassifier"
   ]
  },
  {
   "cell_type": "markdown",
   "metadata": {},
   "source": [
    "Next, we import the dataset. When printing the datatypes of the columns in the dataset below, we can see that there are 18 columns, most of which are integers or floats. However, not all of the datatypes are correct, as Weekend and Revenue should actually be integers, while OperatingSystems, Browser, Region and TrafficType should be strings so these categorical variables can be made into dummy variables."
   ]
  },
  {
   "cell_type": "code",
   "execution_count": 2,
   "metadata": {
    "scrolled": false
   },
   "outputs": [
    {
     "name": "stdout",
     "output_type": "stream",
     "text": [
      "The datatypes of the columns in the dataset are: \n",
      "\n",
      "Administrative               int64\n",
      "Administrative_Duration    float64\n",
      "Informational                int64\n",
      "Informational_Duration     float64\n",
      "ProductRelated               int64\n",
      "ProductRelated_Duration    float64\n",
      "BounceRates                float64\n",
      "ExitRates                  float64\n",
      "PageValues                 float64\n",
      "SpecialDay                 float64\n",
      "Month                       object\n",
      "OperatingSystems             int64\n",
      "Browser                      int64\n",
      "Region                       int64\n",
      "TrafficType                  int64\n",
      "VisitorType                 object\n",
      "Weekend                       bool\n",
      "Revenue                       bool\n",
      "dtype: object\n"
     ]
    }
   ],
   "source": [
    "df = pd.read_csv('data.csv')\n",
    "\n",
    "print(\"The datatypes of the columns in the dataset are: \\n\")\n",
    "print(df.dtypes)"
   ]
  },
  {
   "cell_type": "markdown",
   "metadata": {},
   "source": [
    "As mentioned, we want to change the Weekend and Revenue columns to integers, which we do below. Furthermore, we want to get dummies for the VisitorType, OperatingSystems, Browser, Region and TrafficType. To do so for the last four of these, we first have to convert the integers in to strings so the get_dummies function in sklearn recognizes that these columns should also be converted into dummies. Lastly, we drop the Month column, as instructed in the assignment. The final columns and their corresponding datatypes can be found below."
   ]
  },
  {
   "cell_type": "code",
   "execution_count": 3,
   "metadata": {
    "scrolled": true
   },
   "outputs": [
    {
     "name": "stdout",
     "output_type": "stream",
     "text": [
      "Administrative                     int64\n",
      "Administrative_Duration          float64\n",
      "Informational                      int64\n",
      "Informational_Duration           float64\n",
      "ProductRelated                     int64\n",
      "                                  ...   \n",
      "TrafficType_8                      uint8\n",
      "TrafficType_9                      uint8\n",
      "VisitorType_New_Visitor            uint8\n",
      "VisitorType_Other                  uint8\n",
      "VisitorType_Returning_Visitor      uint8\n",
      "Length: 65, dtype: object\n"
     ]
    }
   ],
   "source": [
    "df[\"Weekend\"] = df[\"Weekend\"].astype(int)\n",
    "df[\"Revenue\"] = df[\"Revenue\"].astype(int)\n",
    "\n",
    "df[\"OperatingSystems\"] = df[\"OperatingSystems\"].astype(str)\n",
    "df[\"Browser\"] = df[\"Browser\"].astype(str)\n",
    "df[\"Region\"] = df[\"Region\"].astype(str)\n",
    "df[\"TrafficType\"] = df[\"TrafficType\"].astype(str)\n",
    "\n",
    "df = df.drop(columns=\"Month\")\n",
    "\n",
    "df = pd.get_dummies(df)\n",
    "\n",
    "print(df.dtypes)"
   ]
  },
  {
   "cell_type": "markdown",
   "metadata": {},
   "source": [
    "Below, we perform a train_test_split on the dataset, by first creating a variable that stores all predictor variables, and then performing the split using this new variable."
   ]
  },
  {
   "cell_type": "code",
   "execution_count": 4,
   "metadata": {
    "scrolled": true
   },
   "outputs": [
    {
     "name": "stdout",
     "output_type": "stream",
     "text": [
      "X_train shape: (9247, 64)\n",
      "y_train shape: (9247,)\n",
      "X_test shape: (3083, 64)\n",
      "y_test shape: (3083,)\n"
     ]
    }
   ],
   "source": [
    "predictors = df.drop(\"Revenue\", 1)\n",
    "\n",
    "X_train, X_test, y_train, y_test = train_test_split(predictors, df[\"Revenue\"], random_state=0)\n",
    "\n",
    "print(f\"X_train shape: {X_train.shape}\") \n",
    "print(f\"y_train shape: {y_train.shape}\")\n",
    "print(f\"X_test shape: {X_test.shape}\")\n",
    "print(f\"y_test shape: {y_test.shape}\")"
   ]
  },
  {
   "cell_type": "markdown",
   "metadata": {},
   "source": [
    "#  DecisionTree\n",
    "To determine the optimal parameters, we do the same thing as we did with models in assignment 2A. We train each model on the dataset three times, all with different scaling methods. The first method is no scaling, the second method is StandardScaler, and the last method is MinMaxScaler.\n",
    "\n",
    "We again created pipelines to make sure the scaling and fitting of the model happens in the right order. Then, we use gridsearch to find the optimal value for the parameters of the DecisionTree model. Note that when we look for the best parameter X, we keep the other parameters constant/default. \n",
    "\n",
    "When performing the gridsearches, we ran the gridsearch multiple times while constantly narrowing down the range between which the gridsearch should look. The original range we used for both the DecisionTreeClassifier model and the RandomForestClassifier model was 1,30. While performing the gridsearch and narrowing down the range, we made sure that the best value of the parameter was neither the smallest, nor the largest value we checked using the gridsearch."
   ]
  },
  {
   "cell_type": "markdown",
   "metadata": {},
   "source": [
    "## DecisionTreeClassifier without scaling\n",
    "As mentioned above, first we take a look at the DecisionTreeClassifier without scaling. Using the described method, we obtain the following results:\n",
    "\n",
    "- max_depth should be 6 to have the best model, with a training score of 0.914 and test score of 0.887.\n",
    "- max_features should be 19 to have the best model, with a training score of 1 and a test score of 0.848.\n",
    "- min_samples_leaf should be 28 to have the best model, with a training score of 0.914 and a test score of 0.883.\n",
    "- min_samples_split should be 29 to have the best model, with a training score of 0.941 and a test score of 0.872.\n",
    "\n",
    "Note that the test and training scores are not always very close to each other, which means that there might be some overfitting taking place."
   ]
  },
  {
   "cell_type": "code",
   "execution_count": 5,
   "metadata": {},
   "outputs": [
    {
     "name": "stdout",
     "output_type": "stream",
     "text": [
      "Training set score: 0.9141343138315129\n",
      "Test set score: 0.8867985728186831\n",
      "Best parameters: {'decisiontreeclassifier__max_depth': 6}\n"
     ]
    }
   ],
   "source": [
    "dtc_no_pipe = make_pipeline(DecisionTreeClassifier())\n",
    "\n",
    "dtc_no_param_grid = {\"decisiontreeclassifier__max_depth\":np.arange(5, 10, 1),}\n",
    "dtc_no_grid = GridSearchCV(dtc_no_pipe, dtc_no_param_grid, cv=3, n_jobs=-1)\n",
    "dtc_no_grid.fit(X_train, y_train)\n",
    "\n",
    "print(f\"Training set score: {dtc_no_grid.score(X_train, y_train)}\")\n",
    "print(f\"Test set score: {dtc_no_grid.score(X_test, y_test)}\")\n",
    "print(f\"Best parameters: {dtc_no_grid.best_params_}\")"
   ]
  },
  {
   "cell_type": "code",
   "execution_count": 6,
   "metadata": {},
   "outputs": [
    {
     "name": "stdout",
     "output_type": "stream",
     "text": [
      "Training set score: 1.0\n",
      "Test set score: 0.853065196237431\n",
      "Best parameters: {'decisiontreeclassifier__max_features': 19}\n"
     ]
    }
   ],
   "source": [
    "dtc_no_pipe = make_pipeline(DecisionTreeClassifier())\n",
    "\n",
    "dtc_no_param_grid = {\"decisiontreeclassifier__max_features\":np.arange(15, 20, 1)}\n",
    "dtc_no_grid = GridSearchCV(dtc_no_pipe, dtc_no_param_grid, cv=3, n_jobs=-1)\n",
    "dtc_no_grid.fit(X_train, y_train)\n",
    "\n",
    "print(f\"Training set score: {dtc_no_grid.score(X_train, y_train)}\")\n",
    "print(f\"Test set score: {dtc_no_grid.score(X_test, y_test)}\")\n",
    "print(f\"Best parameters: {dtc_no_grid.best_params_}\")"
   ]
  },
  {
   "cell_type": "code",
   "execution_count": 7,
   "metadata": {},
   "outputs": [
    {
     "name": "stdout",
     "output_type": "stream",
     "text": [
      "Training set score: 0.9139180274683681\n",
      "Test set score: 0.88582549464807\n",
      "Best parameters: {'decisiontreeclassifier__min_samples_leaf': 29}\n"
     ]
    }
   ],
   "source": [
    "dtc_no_pipe = make_pipeline(DecisionTreeClassifier())\n",
    "\n",
    "dtc_no_param_grid = {\"decisiontreeclassifier__min_samples_leaf\":np.arange(25, 30, 1)}\n",
    "dtc_no_grid = GridSearchCV(dtc_no_pipe, dtc_no_param_grid, cv=3, n_jobs=-1)\n",
    "dtc_no_grid.fit(X_train, y_train)\n",
    "\n",
    "print(f\"Training set score: {dtc_no_grid.score(X_train, y_train)}\")\n",
    "print(f\"Test set score: {dtc_no_grid.score(X_test, y_test)}\")\n",
    "print(f\"Best parameters: {dtc_no_grid.best_params_}\")"
   ]
  },
  {
   "cell_type": "code",
   "execution_count": 8,
   "metadata": {},
   "outputs": [
    {
     "name": "stdout",
     "output_type": "stream",
     "text": [
      "Training set score: 0.9417108251324754\n",
      "Test set score: 0.8709049626986701\n",
      "Best parameters: {'decisiontreeclassifier__min_samples_split': 29}\n"
     ]
    }
   ],
   "source": [
    "dtc_no_pipe = make_pipeline(DecisionTreeClassifier())\n",
    "\n",
    "dtc_no_param_grid = {\"decisiontreeclassifier__min_samples_split\":np.arange(25, 30, 1)}\n",
    "dtc_no_grid = GridSearchCV(dtc_no_pipe, dtc_no_param_grid, cv=3, n_jobs=-1)\n",
    "dtc_no_grid.fit(X_train, y_train)\n",
    "\n",
    "print(f\"Training set score: {dtc_no_grid.score(X_train, y_train)}\")\n",
    "print(f\"Test set score: {dtc_no_grid.score(X_test, y_test)}\")\n",
    "print(f\"Best parameters: {dtc_no_grid.best_params_}\")"
   ]
  },
  {
   "cell_type": "markdown",
   "metadata": {},
   "source": [
    "## DecisionTreeClassifier with StandardScaler\n",
    "Now we will look at the DecisionTreeClassifier with standard scaling. Using the described method, we obtain the following results:\n",
    "\n",
    "- max_depth should be 4 to have the best model, with a training score of 0.900 and test score of 0.881.\n",
    "- max_features should be 2 to have the best model, with a training score of 1 and a test score of 0.802.\n",
    "- min_samples_leaf should be 29 to have the best model, with a training score of 0.914 and a test score of 0.886.\n",
    "- min_samples_split should be 29 to have the best model, with a training score of 0.941 and a test score of 0.872.\n",
    "\n",
    "Note that the test and training scores are again not that close, which means that there might be some overfitting. It is also noteworthy that the scores scores for the model with StandardScaler are almost the same as the scores of the model with no scaling."
   ]
  },
  {
   "cell_type": "code",
   "execution_count": 9,
   "metadata": {},
   "outputs": [
    {
     "name": "stdout",
     "output_type": "stream",
     "text": [
      "Training set score: 0.9039688547637071\n",
      "Test set score: 0.8806357444048005\n",
      "Best parameters: {'decisiontreeclassifier__max_depth': 4}\n"
     ]
    }
   ],
   "source": [
    "dtc_ss_pipe = make_pipeline(StandardScaler(), DecisionTreeClassifier())\n",
    "\n",
    "dtc_ss_param_grid = {\"decisiontreeclassifier__max_depth\":np.arange(1, 5, 1)}\n",
    "dtc_ss_grid = GridSearchCV(dtc_ss_pipe, dtc_ss_param_grid, cv=3, n_jobs=-1)\n",
    "dtc_ss_grid.fit(X_train, y_train)\n",
    "\n",
    "print(f\"Training set score: {dtc_ss_grid.score(X_train, y_train)}\")\n",
    "print(f\"Test set score: {dtc_ss_grid.score(X_test, y_test)}\")\n",
    "print(f\"Best parameters: {dtc_ss_grid.best_params_}\")"
   ]
  },
  {
   "cell_type": "code",
   "execution_count": 10,
   "metadata": {},
   "outputs": [
    {
     "name": "stdout",
     "output_type": "stream",
     "text": [
      "Training set score: 1.0\n",
      "Test set score: 0.8550113525786571\n",
      "Best parameters: {'decisiontreeclassifier__max_features': 9}\n"
     ]
    }
   ],
   "source": [
    "dtc_ss_pipe = make_pipeline(StandardScaler(), DecisionTreeClassifier())\n",
    "\n",
    "dtc_ss_param_grid = {\"decisiontreeclassifier__max_features\":np.arange(5, 10, 1)}\n",
    "dtc_ss_grid = GridSearchCV(dtc_ss_pipe, dtc_ss_param_grid, cv=3, n_jobs=-1)\n",
    "dtc_ss_grid.fit(X_train, y_train)\n",
    "\n",
    "print(f\"Training set score: {dtc_ss_grid.score(X_train, y_train)}\")\n",
    "print(f\"Test set score: {dtc_ss_grid.score(X_test, y_test)}\")\n",
    "print(f\"Best parameters: {dtc_ss_grid.best_params_}\")"
   ]
  },
  {
   "cell_type": "code",
   "execution_count": 11,
   "metadata": {},
   "outputs": [
    {
     "name": "stdout",
     "output_type": "stream",
     "text": [
      "Training set score: 0.9139180274683681\n",
      "Test set score: 0.88582549464807\n",
      "Best parameters: {'decisiontreeclassifier__min_samples_leaf': 29}\n"
     ]
    }
   ],
   "source": [
    "dtc_ss_pipe = make_pipeline(StandardScaler(), DecisionTreeClassifier())\n",
    "\n",
    "dtc_ss_param_grid = {\"decisiontreeclassifier__min_samples_leaf\":np.arange(25, 30, 1)}\n",
    "dtc_ss_grid = GridSearchCV(dtc_ss_pipe, dtc_ss_param_grid, cv=3, n_jobs=-1)\n",
    "dtc_ss_grid.fit(X_train, y_train)\n",
    "\n",
    "print(f\"Training set score: {dtc_ss_grid.score(X_train, y_train)}\")\n",
    "print(f\"Test set score: {dtc_ss_grid.score(X_test, y_test)}\")\n",
    "print(f\"Best parameters: {dtc_ss_grid.best_params_}\")"
   ]
  },
  {
   "cell_type": "code",
   "execution_count": 12,
   "metadata": {},
   "outputs": [
    {
     "name": "stdout",
     "output_type": "stream",
     "text": [
      "Training set score: 0.9418189683140478\n",
      "Test set score: 0.8718780408692831\n",
      "Best parameters: {'decisiontreeclassifier__min_samples_split': 28}\n"
     ]
    }
   ],
   "source": [
    "dtc_ss_pipe = make_pipeline(StandardScaler(), DecisionTreeClassifier())\n",
    "\n",
    "dtc_ss_param_grid = {\"decisiontreeclassifier__min_samples_split\":np.arange(25, 30, 1)}\n",
    "dtc_ss_grid = GridSearchCV(dtc_ss_pipe, dtc_ss_param_grid, cv=3, n_jobs=-1)\n",
    "dtc_ss_grid.fit(X_train, y_train)\n",
    "\n",
    "print(f\"Training set score: {dtc_ss_grid.score(X_train, y_train)}\")\n",
    "print(f\"Test set score: {dtc_ss_grid.score(X_test, y_test)}\")\n",
    "print(f\"Best parameters: {dtc_ss_grid.best_params_}\")"
   ]
  },
  {
   "cell_type": "markdown",
   "metadata": {},
   "source": [
    "## DecisionTreeClassifier with MinMaxScaler\n",
    "Now we will look at the DecisionTreeClassifier with minmax scaling. Using the described method, we obtained the following results:\n",
    "\n",
    "- max_depth should be 5 to have the best model, with a training score of 0.909 and test score of 0.880.\n",
    "- max_features should be 13 to have the best model, with a training score of 1 and a test score of 0.830.\n",
    "- min_samples_leaf should be 29 to have the best model, with a training score of 0.914 and a test score of 0.886.\n",
    "- min_samples_split should be 28 to have the best model, with a training score of 0.942 and a test score of 0.871.\n",
    "\n",
    "Note again that the test and training score are not very close close, which might indicate some overfitting. Again, it is also noteworthy that the scores for the model with the MinMaxScaler are almost the same as the scores of both previous models."
   ]
  },
  {
   "cell_type": "code",
   "execution_count": 13,
   "metadata": {},
   "outputs": [
    {
     "name": "stdout",
     "output_type": "stream",
     "text": [
      "Training set score: 0.9141343138315129\n",
      "Test set score: 0.8871229322088875\n",
      "Best parameters: {'decisiontreeclassifier__max_depth': 6}\n"
     ]
    }
   ],
   "source": [
    "dtc_mm_pipe = make_pipeline(MinMaxScaler(), DecisionTreeClassifier())\n",
    "\n",
    "dtc_mm_param_grid = {\"decisiontreeclassifier__max_depth\":np.arange(5, 10, 1)}\n",
    "dtc_mm_grid = GridSearchCV(dtc_mm_pipe, dtc_mm_param_grid, cv=3, n_jobs=-1)\n",
    "dtc_mm_grid.fit(X_train, y_train)\n",
    "\n",
    "print(f\"Training set score: {dtc_mm_grid.score(X_train, y_train)}\")\n",
    "print(f\"Test set score: {dtc_mm_grid.score(X_test, y_test)}\")\n",
    "print(f\"Best parameters: {dtc_mm_grid.best_params_}\")"
   ]
  },
  {
   "cell_type": "code",
   "execution_count": 14,
   "metadata": {},
   "outputs": [
    {
     "name": "stdout",
     "output_type": "stream",
     "text": [
      "Training set score: 1.0\n",
      "Test set score: 0.8358741485566007\n",
      "Best parameters: {'decisiontreeclassifier__max_features': 14}\n"
     ]
    }
   ],
   "source": [
    "\n",
    "dtc_mm_pipe = make_pipeline(MinMaxScaler(), DecisionTreeClassifier())\n",
    "\n",
    "dtc_mm_param_grid = {\"decisiontreeclassifier__max_features\":np.arange(10, 15, 1)}\n",
    "dtc_mm_grid = GridSearchCV(dtc_mm_pipe, dtc_mm_param_grid, cv=3, n_jobs=-1)\n",
    "dtc_mm_grid.fit(X_train, y_train)\n",
    "\n",
    "print(f\"Training set score: {dtc_mm_grid.score(X_train, y_train)}\")\n",
    "print(f\"Test set score: {dtc_mm_grid.score(X_test, y_test)}\")\n",
    "print(f\"Best parameters: {dtc_mm_grid.best_params_}\")"
   ]
  },
  {
   "cell_type": "code",
   "execution_count": 15,
   "metadata": {},
   "outputs": [
    {
     "name": "stdout",
     "output_type": "stream",
     "text": [
      "Training set score: 0.9139180274683681\n",
      "Test set score: 0.88582549464807\n",
      "Best parameters: {'decisiontreeclassifier__min_samples_leaf': 29}\n"
     ]
    }
   ],
   "source": [
    "\n",
    "dtc_mm_pipe = make_pipeline(MinMaxScaler(), DecisionTreeClassifier())\n",
    "\n",
    "dtc_mm_param_grid = {\"decisiontreeclassifier__min_samples_leaf\":np.arange(25, 30, 1)}\n",
    "dtc_mm_grid = GridSearchCV(dtc_mm_pipe, dtc_mm_param_grid, cv=3, n_jobs=-1)\n",
    "dtc_mm_grid.fit(X_train, y_train)\n",
    "\n",
    "print(f\"Training set score: {dtc_mm_grid.score(X_train, y_train)}\")\n",
    "print(f\"Test set score: {dtc_mm_grid.score(X_test, y_test)}\")\n",
    "print(f\"Best parameters: {dtc_mm_grid.best_params_}\")"
   ]
  },
  {
   "cell_type": "code",
   "execution_count": 16,
   "metadata": {},
   "outputs": [
    {
     "name": "stdout",
     "output_type": "stream",
     "text": [
      "Training set score: 0.9419271114956203\n",
      "Test set score: 0.8715536814790789\n",
      "Best parameters: {'decisiontreeclassifier__min_samples_split': 29}\n"
     ]
    }
   ],
   "source": [
    "\n",
    "dtc_mm_pipe = make_pipeline(MinMaxScaler(), DecisionTreeClassifier())\n",
    "\n",
    "dtc_mm_param_grid = {\"decisiontreeclassifier__min_samples_split\":np.arange(25, 30, 1)}\n",
    "dtc_mm_grid = GridSearchCV(dtc_mm_pipe, dtc_mm_param_grid, cv=3, n_jobs=-1)\n",
    "dtc_mm_grid.fit(X_train, y_train)\n",
    "\n",
    "print(f\"Training set score: {dtc_mm_grid.score(X_train, y_train)}\")\n",
    "print(f\"Test set score: {dtc_mm_grid.score(X_test, y_test)}\")\n",
    "print(f\"Best parameters: {dtc_mm_grid.best_params_}\")"
   ]
  },
  {
   "cell_type": "markdown",
   "metadata": {},
   "source": [
    "As mentioned before, the test and training scores of all scaling methods relatively close to each other, so it seems that the scaling type does not have any significant impact on the models. This is consistent with the theory that decision trees are not influenced by scaling."
   ]
  },
  {
   "cell_type": "markdown",
   "metadata": {},
   "source": [
    "## DecisionTreeClassifier parameter-score plot\n",
    "It is also interesting to visualize how the test and training score react to a change of a certain parameter. In the four following code blocks, we will see how each parameter of the DecisionTreeClassifier influences the scores. Note that the for each plot, one parameter is changed and the others are constant, and that we only plotted the parameter influence for models without any scaling."
   ]
  },
  {
   "cell_type": "markdown",
   "metadata": {},
   "source": [
    "It can be seen clearly below that when max_depth increases, the gap between the training and test score also increases. This means that increasing the parameter max_depth yields more and more overfitting.  "
   ]
  },
  {
   "cell_type": "code",
   "execution_count": 17,
   "metadata": {},
   "outputs": [
    {
     "data": {
      "image/png": "[encoded data removed]",
      "text/plain": [
       "<Figure size 432x288 with 1 Axes>"
      ]
     },
     "metadata": {
      "needs_background": "light"
     },
     "output_type": "display_data"
    }
   ],
   "source": [
    "param_grid = {'max_depth':np.arange(1,30,1)}\n",
    "grid = GridSearchCV(DecisionTreeClassifier(random_state=0), param_grid=param_grid, cv=3, return_train_score=True, n_jobs=-1)  \n",
    "grid.fit(X_train, y_train)\n",
    "scores = pd.DataFrame(grid.cv_results_)\n",
    "scores.plot(x='param_max_depth', y=['mean_train_score', 'mean_test_score'], ax=plt.gca())\n",
    "plt.legend(loc=(1, 0))\n",
    "plt.show()"
   ]
  },
  {
   "cell_type": "markdown",
   "metadata": {},
   "source": [
    "For the max_features parameter, the train score always gets a perfect score of 1. On the other hand, increasing max_features results in a reduce of the gap between the two scores, which is of course preferable to prevent overfitting."
   ]
  },
  {
   "cell_type": "code",
   "execution_count": 18,
   "metadata": {},
   "outputs": [
    {
     "data": {
      "image/png": "[encoded data removed]",
      "text/plain": [
       "<Figure size 432x288 with 1 Axes>"
      ]
     },
     "metadata": {
      "needs_background": "light"
     },
     "output_type": "display_data"
    }
   ],
   "source": [
    "param_grid = {'max_features':np.arange(1,30,1)}\n",
    "grid = GridSearchCV(DecisionTreeClassifier(random_state=0), param_grid=param_grid, cv=3, return_train_score=True, n_jobs=-1)  \n",
    "grid.fit(X_train, y_train)\n",
    "scores = pd.DataFrame(grid.cv_results_)\n",
    "scores.plot(x='param_max_features', y=['mean_train_score', 'mean_test_score'], ax=plt.gca())\n",
    "plt.legend(loc=(1, 0))\n",
    "plt.show()"
   ]
  },
  {
   "cell_type": "markdown",
   "metadata": {},
   "source": [
    "As can be seen below, increasing the min_samples_leaf parameter leads to a decrease of the gap between the two scores. In addition to this, the test score seems to keep increasing for min_sample_leaf. Because of this, it makes sense that the gridsearches from all three model versions returned high values of the min_samples_leaf parameter as the best value for this parameter."
   ]
  },
  {
   "cell_type": "code",
   "execution_count": 19,
   "metadata": {},
   "outputs": [
    {
     "data": {
      "image/png": "[encoded data removed]",
      "text/plain": [
       "<Figure size 432x288 with 1 Axes>"
      ]
     },
     "metadata": {
      "needs_background": "light"
     },
     "output_type": "display_data"
    }
   ],
   "source": [
    "param_grid = {'min_samples_leaf':np.arange(1,30,1)}\n",
    "grid = GridSearchCV(DecisionTreeClassifier(random_state=0), param_grid=param_grid, cv=3, return_train_score=True, n_jobs=-1)  \n",
    "grid.fit(X_train, y_train)\n",
    "scores = pd.DataFrame(grid.cv_results_)\n",
    "scores.plot(x='param_min_samples_leaf', y=['mean_train_score', 'mean_test_score'], ax=plt.gca())\n",
    "plt.legend(loc=(1, 0))\n",
    "plt.show()"
   ]
  },
  {
   "cell_type": "markdown",
   "metadata": {},
   "source": [
    "Below we can see the plot for the min_samples_split parameter, which looks almost the same as the min_sample_leaf plot. An important difference is that the train and test score are converging to each other more slowly. Again, it makes sense that high values of the min_samples_split parameter for the three type of scales were chose as the best value; the gap between the scores becomes smaller and the test score increases with higher values of min_samples_split. "
   ]
  },
  {
   "cell_type": "code",
   "execution_count": 20,
   "metadata": {},
   "outputs": [
    {
     "data": {
      "image/png": "[encoded data removed]",
      "text/plain": [
       "<Figure size 432x288 with 1 Axes>"
      ]
     },
     "metadata": {
      "needs_background": "light"
     },
     "output_type": "display_data"
    }
   ],
   "source": [
    "param_grid = {'min_samples_split':np.arange(1,30,1)}\n",
    "grid = GridSearchCV(DecisionTreeClassifier(random_state=0), param_grid=param_grid, cv=3, return_train_score=True, n_jobs=-1)  \n",
    "grid.fit(X_train, y_train)\n",
    "scores = pd.DataFrame(grid.cv_results_)\n",
    "scores.plot(x='param_min_samples_split', y=['mean_train_score', 'mean_test_score'], ax=plt.gca())\n",
    "plt.legend(loc=(1, 0))\n",
    "plt.show()"
   ]
  },
  {
   "cell_type": "markdown",
   "metadata": {},
   "source": [
    "From these plots, we conclude it is important to select the parameters carefully. Otherwise, there could be a big gap between the scores which means there is over- or underfitting. Not choosing parameters carefully could also lead to a lower test score, which is of course not preferable. "
   ]
  },
  {
   "cell_type": "markdown",
   "metadata": {},
   "source": [
    "#  RandomForestClassifier\n",
    "For the RandomForestClassifier, we use the same method as we used for the previous classifiers. We train the model on the dataset three times, all with different scaling methods. The first method is no scaling, the second method is StandardScaler, and the last method is MinMaxScaler.\n",
    "\n",
    "We again created pipelines to make sure the scaling and fitting of the model happens in the right order. Then, we use gridsearch to find the optimal value for the parameters of the Random forest model. Note that when we look for the best parameter X, we keep the other parameters constant/default."
   ]
  },
  {
   "cell_type": "markdown",
   "metadata": {},
   "source": [
    "## RandomForestClassifier without scaling\n",
    "As mentioned above, first we take a look at the Random forest classifier without scaling. Using the described method, we obtained the following results:\n",
    "\n",
    "- max_depth should be 27 to have the best model, with a training score of 1 and test score of 0.886.\n",
    "- max_features should be 27 to have the best model, with a training score of 0.999 and a test score of 0.889.\n",
    "- min_samples_leaf should be 14 to have the best model, with a training score of 0.917 and a test score of 0.885.\n",
    "- min_samples_split should be 25 to have the best model, with a training score of 0.941 and a test score of 0.885.\n",
    "- n_estimators should be 13 to have the best model, with a training score of 0.999  and a test score of 0.887\n",
    "\n",
    "Note that the test and training score are not very close to each other, which means that there might be some overfitting."
   ]
  },
  {
   "cell_type": "code",
   "execution_count": 21,
   "metadata": {},
   "outputs": [
    {
     "name": "stdout",
     "output_type": "stream",
     "text": [
      "Training set score: 1.0\n",
      "Test set score: 0.8861498540382744\n",
      "Best parameters: {'randomforestclassifier__max_depth': 29}\n"
     ]
    }
   ],
   "source": [
    "rfc_no_pipe = make_pipeline(RandomForestClassifier())\n",
    "\n",
    "rfc_no_param_grid = {\"randomforestclassifier__max_depth\":np.arange(25, 30, 1)}\n",
    "rfc_no_grid = GridSearchCV(rfc_no_pipe, rfc_no_param_grid, cv=3, n_jobs=-1)\n",
    "rfc_no_grid.fit(X_train, y_train)\n",
    "\n",
    "print(f\"Training set score: {rfc_no_grid.score(X_train, y_train)}\")\n",
    "print(f\"Test set score: {rfc_no_grid.score(X_test, y_test)}\")\n",
    "print(f\"Best parameters: {rfc_no_grid.best_params_}\")"
   ]
  },
  {
   "cell_type": "code",
   "execution_count": 22,
   "metadata": {},
   "outputs": [
    {
     "name": "stdout",
     "output_type": "stream",
     "text": [
      "Training set score: 0.9998918568184276\n",
      "Test set score: 0.8903665261109309\n",
      "Best parameters: {'randomforestclassifier__max_features': 25}\n"
     ]
    }
   ],
   "source": [
    "rfc_no_pipe = make_pipeline(RandomForestClassifier())\n",
    "\n",
    "rfc_no_param_grid = {\"randomforestclassifier__max_features\":np.arange(25, 30, 1)}\n",
    "rfc_no_grid = GridSearchCV(rfc_no_pipe, rfc_no_param_grid, cv=3, n_jobs=-1)\n",
    "rfc_no_grid.fit(X_train, y_train)\n",
    "\n",
    "print(f\"Training set score: {rfc_no_grid.score(X_train, y_train)}\")\n",
    "print(f\"Test set score: {rfc_no_grid.score(X_test, y_test)}\")\n",
    "print(f\"Best parameters: {rfc_no_grid.best_params_}\")"
   ]
  },
  {
   "cell_type": "code",
   "execution_count": 23,
   "metadata": {},
   "outputs": [
    {
     "name": "stdout",
     "output_type": "stream",
     "text": [
      "Training set score: 0.9194333297285606\n",
      "Test set score: 0.882906260136231\n",
      "Best parameters: {'randomforestclassifier__min_samples_leaf': 10}\n"
     ]
    }
   ],
   "source": [
    "rfc_no_pipe = make_pipeline(RandomForestClassifier())\n",
    "\n",
    "rfc_no_param_grid = {\"randomforestclassifier__min_samples_leaf\":np.arange(10, 15, 1)}\n",
    "rfc_no_grid = GridSearchCV(rfc_no_pipe, rfc_no_param_grid, cv=3, n_jobs=-1)\n",
    "rfc_no_grid.fit(X_train, y_train)\n",
    "\n",
    "print(f\"Training set score: {rfc_no_grid.score(X_train, y_train)}\")\n",
    "print(f\"Test set score: {rfc_no_grid.score(X_test, y_test)}\")\n",
    "print(f\"Best parameters: {rfc_no_grid.best_params_}\")"
   ]
  },
  {
   "cell_type": "code",
   "execution_count": 24,
   "metadata": {},
   "outputs": [
    {
     "name": "stdout",
     "output_type": "stream",
     "text": [
      "Training set score: 0.9391153887747378\n",
      "Test set score: 0.8835549789166396\n",
      "Best parameters: {'randomforestclassifier__min_samples_split': 27}\n"
     ]
    }
   ],
   "source": [
    "rfc_no_pipe = make_pipeline(RandomForestClassifier())\n",
    "\n",
    "rfc_no_param_grid = {\"randomforestclassifier__min_samples_split\":np.arange(25, 30, 1)}\n",
    "rfc_no_grid = GridSearchCV(rfc_no_pipe, rfc_no_param_grid, cv=3, n_jobs=-1)\n",
    "rfc_no_grid.fit(X_train, y_train)\n",
    "\n",
    "print(f\"Training set score: {rfc_no_grid.score(X_train, y_train)}\")\n",
    "print(f\"Test set score: {rfc_no_grid.score(X_test, y_test)}\")\n",
    "print(f\"Best parameters: {rfc_no_grid.best_params_}\")"
   ]
  },
  {
   "cell_type": "code",
   "execution_count": 25,
   "metadata": {},
   "outputs": [
    {
     "name": "stdout",
     "output_type": "stream",
     "text": [
      "Training set score: 0.9935114091056559\n",
      "Test set score: 0.8809601037950049\n",
      "Best parameters: {'randomforestclassifier__n_estimators': 11}\n"
     ]
    }
   ],
   "source": [
    "rfc_no_pipe = make_pipeline(RandomForestClassifier())\n",
    "\n",
    "rfc_no_param_grid = {\"randomforestclassifier__n_estimators\":np.arange(10, 15, 1)}\n",
    "rfc_no_grid = GridSearchCV(rfc_no_pipe, rfc_no_param_grid, cv=3, n_jobs=-1)\n",
    "rfc_no_grid.fit(X_train, y_train)\n",
    "\n",
    "print(f\"Training set score: {rfc_no_grid.score(X_train, y_train)}\")\n",
    "print(f\"Test set score: {rfc_no_grid.score(X_test, y_test)}\")\n",
    "print(f\"Best parameters: {rfc_no_grid.best_params_}\")"
   ]
  },
  {
   "cell_type": "markdown",
   "metadata": {},
   "source": [
    "## RandomForestClassifier with StandardScaler\n",
    "After taking a look at the RandomForestClassifier without any scaling, it is now time to focus on the same model but this time with StandardScaler applied. Using the described method, we obtained the following results:\n",
    "\n",
    "- max_depth should be 18 to have the best model, with a training score of 0.99 and test score of 0.886.\n",
    "- max_features should be 24 to have the best model, with a training score of 1 and a test score of 0.890.\n",
    "- min_samples_leaf should be 3 to have the best model, with a training score of 0.956 and a test score of 0.886.\n",
    "- min_samples_split should be 2 to have the best model, with a training score of 0.999 and a test score of 0.885.\n",
    "- n_estimators should be 4 to have the best model, with a training score of 0.971  and a test score of 0.874.\n",
    "\n",
    "Note that the test and training score are not that close to each other, which means that there could be some overfitting."
   ]
  },
  {
   "cell_type": "code",
   "execution_count": 26,
   "metadata": {},
   "outputs": [
    {
     "name": "stdout",
     "output_type": "stream",
     "text": [
      "Training set score: 0.9821563750405536\n",
      "Test set score: 0.8842036976970483\n",
      "Best parameters: {'randomforestclassifier__max_depth': 16}\n"
     ]
    }
   ],
   "source": [
    "rfc_ss_pipe = make_pipeline(StandardScaler(), RandomForestClassifier())\n",
    "\n",
    "rfc_ss_param_grid = {\"randomforestclassifier__max_depth\":np.arange(15,20, 1)}\n",
    "rfc_ss_grid = GridSearchCV(rfc_ss_pipe, rfc_ss_param_grid, cv=3, n_jobs=-1)\n",
    "rfc_ss_grid.fit(X_train, y_train)\n",
    "\n",
    "print(f\"Training set score: {rfc_ss_grid.score(X_train, y_train)}\")\n",
    "print(f\"Test set score: {rfc_ss_grid.score(X_test, y_test)}\")\n",
    "print(f\"Best parameters: {rfc_ss_grid.best_params_}\")"
   ]
  },
  {
   "cell_type": "code",
   "execution_count": 27,
   "metadata": {},
   "outputs": [
    {
     "name": "stdout",
     "output_type": "stream",
     "text": [
      "Training set score: 1.0\n",
      "Test set score: 0.8867985728186831\n",
      "Best parameters: {'randomforestclassifier__max_features': 21}\n"
     ]
    }
   ],
   "source": [
    "rfc_ss_pipe = make_pipeline(StandardScaler(), RandomForestClassifier())\n",
    "\n",
    "rfc_ss_param_grid = {\"randomforestclassifier__max_features\":np.arange(20, 25, 1)}\n",
    "rfc_ss_grid = GridSearchCV(rfc_ss_pipe, rfc_ss_param_grid, cv=3, n_jobs=-1)\n",
    "rfc_ss_grid.fit(X_train, y_train)\n",
    "\n",
    "print(f\"Training set score: {rfc_ss_grid.score(X_train, y_train)}\")\n",
    "print(f\"Test set score: {rfc_ss_grid.score(X_test, y_test)}\")\n",
    "print(f\"Best parameters: {rfc_ss_grid.best_params_}\")"
   ]
  },
  {
   "cell_type": "code",
   "execution_count": 28,
   "metadata": {},
   "outputs": [
    {
     "name": "stdout",
     "output_type": "stream",
     "text": [
      "Training set score: 0.9049421433978587\n",
      "Test set score: 0.8780408692831657\n",
      "Best parameters: {'randomforestclassifier__min_samples_leaf': 26}\n"
     ]
    }
   ],
   "source": [
    "rfc_ss_pipe = make_pipeline(StandardScaler(), RandomForestClassifier())\n",
    "\n",
    "rfc_ss_param_grid = {\"randomforestclassifier__min_samples_leaf\":np.arange(25, 30, 1)}\n",
    "rfc_ss_grid = GridSearchCV(rfc_ss_pipe, rfc_ss_param_grid, cv=3, n_jobs=-1)\n",
    "rfc_ss_grid.fit(X_train, y_train)\n",
    "\n",
    "print(f\"Training set score: {rfc_ss_grid.score(X_train, y_train)}\")\n",
    "print(f\"Test set score: {rfc_ss_grid.score(X_test, y_test)}\")\n",
    "print(f\"Best parameters: {rfc_ss_grid.best_params_}\")"
   ]
  },
  {
   "cell_type": "code",
   "execution_count": 29,
   "metadata": {},
   "outputs": [
    {
     "name": "stdout",
     "output_type": "stream",
     "text": [
      "Training set score: 0.9393316751378825\n",
      "Test set score: 0.8812844631852093\n",
      "Best parameters: {'randomforestclassifier__min_samples_split': 26}\n"
     ]
    }
   ],
   "source": [
    "rfc_ss_pipe = make_pipeline(StandardScaler(), RandomForestClassifier())\n",
    "\n",
    "rfc_ss_param_grid = {\"randomforestclassifier__min_samples_split\":np.arange(25, 30, 1)}\n",
    "rfc_ss_grid = GridSearchCV(rfc_ss_pipe, rfc_ss_param_grid, cv=3, n_jobs=-1)\n",
    "rfc_ss_grid.fit(X_train, y_train)\n",
    "\n",
    "print(f\"Training set score: {rfc_ss_grid.score(X_train, y_train)}\")\n",
    "print(f\"Test set score: {rfc_ss_grid.score(X_test, y_test)}\")\n",
    "print(f\"Best parameters: {rfc_ss_grid.best_params_}\")"
   ]
  },
  {
   "cell_type": "code",
   "execution_count": 30,
   "metadata": {},
   "outputs": [
    {
     "name": "stdout",
     "output_type": "stream",
     "text": [
      "Training set score: 0.9993511409105655\n",
      "Test set score: 0.8855011352578657\n",
      "Best parameters: {'randomforestclassifier__n_estimators': 27}\n"
     ]
    }
   ],
   "source": [
    "rfc_ss_pipe = make_pipeline(StandardScaler(), RandomForestClassifier())\n",
    "\n",
    "rfc_ss_param_grid = {\"randomforestclassifier__n_estimators\":np.arange(25, 30, 1)}\n",
    "rfc_ss_grid = GridSearchCV(rfc_ss_pipe, rfc_ss_param_grid, cv=3, n_jobs=-1)\n",
    "rfc_ss_grid.fit(X_train, y_train)\n",
    "\n",
    "print(f\"Training set score: {rfc_ss_grid.score(X_train, y_train)}\")\n",
    "print(f\"Test set score: {rfc_ss_grid.score(X_test, y_test)}\")\n",
    "print(f\"Best parameters: {rfc_ss_grid.best_params_}\")"
   ]
  },
  {
   "cell_type": "markdown",
   "metadata": {},
   "source": [
    "## RandomForestClassifier with MinMaxScaler\n",
    "Lastly, we apply the MinMaxScaler to the RandomForestClassifier. Using the described method, we obtained the following results:\n",
    "\n",
    "- max_depth should be 22 to have the best model, with a training score of 0.999 and test score of 0.888.\n",
    "- max_features should be 19 to have the best model, with a training score of 1 and a test score of 0.885.\n",
    "- min_samples_leaf should be 7 to have the best model, with a training score of 0.999 and a test score of 0.886.\n",
    "- min_samples_split should be 2 to have the best model, with a training score of 0.97 and a test score of 0.886.\n",
    "- n_estimators should be 4 to have the best model, with a training score of 0.972  and a test score of 0.872\n",
    "\n",
    "Note that the test and training score are once again not very close, which can indicate overfitting."
   ]
  },
  {
   "cell_type": "code",
   "execution_count": 31,
   "metadata": {},
   "outputs": [
    {
     "name": "stdout",
     "output_type": "stream",
     "text": [
      "Training set score: 0.9967557045528279\n",
      "Test set score: 0.8864742134284788\n",
      "Best parameters: {'randomforestclassifier__max_depth': 20}\n"
     ]
    }
   ],
   "source": [
    "rfc_mm_pipe = make_pipeline(MinMaxScaler(), RandomForestClassifier())\n",
    "\n",
    "rfc_mm_param_grid = {\"randomforestclassifier__max_depth\":np.arange(20, 25, 1)}\n",
    "rfc_mm_grid = GridSearchCV(rfc_mm_pipe, rfc_mm_param_grid, cv=3, n_jobs=-1)\n",
    "rfc_mm_grid.fit(X_train, y_train)\n",
    "\n",
    "print(f\"Training set score: {rfc_mm_grid.score(X_train, y_train)}\")\n",
    "print(f\"Test set score: {rfc_mm_grid.score(X_test, y_test)}\")\n",
    "print(f\"Best parameters: {rfc_mm_grid.best_params_}\")"
   ]
  },
  {
   "cell_type": "code",
   "execution_count": 32,
   "metadata": {},
   "outputs": [
    {
     "name": "stdout",
     "output_type": "stream",
     "text": [
      "Training set score: 0.9998918568184276\n",
      "Test set score: 0.8884203697697048\n",
      "Best parameters: {'randomforestclassifier__max_features': 18}\n"
     ]
    }
   ],
   "source": [
    "rfc_mm_pipe = make_pipeline(MinMaxScaler(), RandomForestClassifier())\n",
    "\n",
    "rfc_mm_param_grid = {\"randomforestclassifier__max_features\":np.arange(15, 20, 1)}\n",
    "rfc_mm_grid = GridSearchCV(rfc_mm_pipe, rfc_mm_param_grid, cv=3, n_jobs=-1)\n",
    "rfc_mm_grid.fit(X_train, y_train)\n",
    "\n",
    "print(f\"Training set score: {rfc_mm_grid.score(X_train, y_train)}\")\n",
    "print(f\"Test set score: {rfc_mm_grid.score(X_test, y_test)}\")\n",
    "print(f\"Best parameters: {rfc_mm_grid.best_params_}\")"
   ]
  },
  {
   "cell_type": "code",
   "execution_count": 33,
   "metadata": {},
   "outputs": [
    {
     "name": "stdout",
     "output_type": "stream",
     "text": [
      "Training set score: 0.9457121228506543\n",
      "Test set score: 0.8809601037950049\n",
      "Best parameters: {'randomforestclassifier__min_samples_leaf': 4}\n"
     ]
    }
   ],
   "source": [
    "rfc_mm_pipe = make_pipeline(MinMaxScaler(), RandomForestClassifier())\n",
    "\n",
    "rfc_mm_param_grid = {\"randomforestclassifier__min_samples_leaf\":np.arange(1, 5, 1)}\n",
    "rfc_mm_grid = GridSearchCV(rfc_mm_pipe, rfc_mm_param_grid, cv=3, n_jobs=-1)\n",
    "rfc_mm_grid.fit(X_train, y_train)\n",
    "\n",
    "print(f\"Training set score: {rfc_mm_grid.score(X_train, y_train)}\")\n",
    "print(f\"Test set score: {rfc_mm_grid.score(X_test, y_test)}\")\n",
    "print(f\"Best parameters: {rfc_mm_grid.best_params_}\")"
   ]
  },
  {
   "cell_type": "code",
   "execution_count": 34,
   "metadata": {},
   "outputs": [
    {
     "name": "stdout",
     "output_type": "stream",
     "text": [
      "Training set score: 0.946469125121661\n",
      "Test set score: 0.8816088225754135\n",
      "Best parameters: {'randomforestclassifier__min_samples_split': 20}\n"
     ]
    }
   ],
   "source": [
    "rfc_mm_pipe = make_pipeline(MinMaxScaler(), RandomForestClassifier())\n",
    "\n",
    "rfc_mm_param_grid = {\"randomforestclassifier__min_samples_split\":np.arange(20, 25, 1)}\n",
    "rfc_mm_grid = GridSearchCV(rfc_mm_pipe, rfc_mm_param_grid, cv=3, n_jobs=-1)\n",
    "rfc_mm_grid.fit(X_train, y_train)\n",
    "\n",
    "print(f\"Training set score: {rfc_mm_grid.score(X_train, y_train)}\")\n",
    "print(f\"Test set score: {rfc_mm_grid.score(X_test, y_test)}\")\n",
    "print(f\"Best parameters: {rfc_mm_grid.best_params_}\")"
   ]
  },
  {
   "cell_type": "code",
   "execution_count": 35,
   "metadata": {},
   "outputs": [
    {
     "name": "stdout",
     "output_type": "stream",
     "text": [
      "Training set score: 0.9958905591002487\n",
      "Test set score: 0.8783652286733701\n",
      "Best parameters: {'randomforestclassifier__n_estimators': 13}\n"
     ]
    }
   ],
   "source": [
    "rfc_mm_pipe = make_pipeline(MinMaxScaler(), RandomForestClassifier())\n",
    "\n",
    "rfc_mm_param_grid = {\"randomforestclassifier__n_estimators\":np.arange(10, 15, 1)}\n",
    "rfc_mm_grid = GridSearchCV(rfc_mm_pipe, rfc_mm_param_grid, cv=3, n_jobs=-1)\n",
    "rfc_mm_grid.fit(X_train, y_train)\n",
    "\n",
    "print(f\"Training set score: {rfc_mm_grid.score(X_train, y_train)}\")\n",
    "print(f\"Test set score: {rfc_mm_grid.score(X_test, y_test)}\")\n",
    "print(f\"Best parameters: {rfc_mm_grid.best_params_}\")"
   ]
  },
  {
   "cell_type": "markdown",
   "metadata": {},
   "source": [
    "## DecisionTreeClassifier parameter-score plot\n",
    "Again, it is interesting to see how the test and training score react to a change of a certain parameter. Below, we can see how each parameter of the RandomForestClassifier influences the training and test set scores. Note that the for each plot, one parameter is changed and the others are constant. "
   ]
  },
  {
   "cell_type": "markdown",
   "metadata": {},
   "source": [
    "It can be seen below that increasing the max_depth parameter results in an increasing gap between the two scores. Hence, there will more overfitting while increasing this parameter. Note that increasing the max_depth parameter yields a better test score until it stabilizes at about value 8. "
   ]
  },
  {
   "cell_type": "code",
   "execution_count": 36,
   "metadata": {},
   "outputs": [
    {
     "data": {
      "image/png": "[encoded data removed]",
      "text/plain": [
       "<Figure size 432x288 with 1 Axes>"
      ]
     },
     "metadata": {
      "needs_background": "light"
     },
     "output_type": "display_data"
    }
   ],
   "source": [
    "param_grid = {'max_depth':np.arange(1,30,1)}\n",
    "grid = GridSearchCV(RandomForestClassifier(random_state=0), param_grid=param_grid, cv=3, return_train_score=True, n_jobs=-1)  \n",
    "grid.fit(X_train, y_train)\n",
    "scores = pd.DataFrame(grid.cv_results_)\n",
    "scores.plot(x='param_max_depth', y=['mean_train_score', 'mean_test_score'], ax=plt.gca())\n",
    "plt.legend(loc=(1, 0))\n",
    "plt.show()"
   ]
  },
  {
   "cell_type": "markdown",
   "metadata": {},
   "source": [
    "As we can see below, the training set score has a value of 1 for all values of the max_features parameter. In addition to this, the test set score, up until a certain point, increases for higher values of this parameter, which is also good since it means there is less overfitting. "
   ]
  },
  {
   "cell_type": "code",
   "execution_count": 37,
   "metadata": {},
   "outputs": [
    {
     "data": {
      "image/png": "[encoded data removed]",
      "text/plain": [
       "<Figure size 432x288 with 1 Axes>"
      ]
     },
     "metadata": {
      "needs_background": "light"
     },
     "output_type": "display_data"
    }
   ],
   "source": [
    "param_grid = {'max_features':np.arange(1,30,1)}\n",
    "grid = GridSearchCV(RandomForestClassifier(random_state=0), param_grid=param_grid, cv=3, return_train_score=True, n_jobs=-1)  \n",
    "grid.fit(X_train, y_train)\n",
    "scores = pd.DataFrame(grid.cv_results_)\n",
    "scores.plot(x='param_max_features', y=['mean_train_score', 'mean_test_score'], ax=plt.gca())\n",
    "plt.legend(loc=(1, 0))\n",
    "plt.show()"
   ]
  },
  {
   "cell_type": "markdown",
   "metadata": {},
   "source": [
    "For the parameter min_samples_leaf it is clear that the test and training score are converging to each other. Hence, higher min_samples_leaf results in less overfitting. On the other hand, the test score only decreases with a higher value for this parameter, which is of course not preferable. "
   ]
  },
  {
   "cell_type": "code",
   "execution_count": 38,
   "metadata": {},
   "outputs": [
    {
     "data": {
      "image/png": "[encoded data removed]",
      "text/plain": [
       "<Figure size 432x288 with 1 Axes>"
      ]
     },
     "metadata": {
      "needs_background": "light"
     },
     "output_type": "display_data"
    }
   ],
   "source": [
    "param_grid = {'min_samples_leaf':np.arange(1,30,1)}\n",
    "grid = GridSearchCV(RandomForestClassifier(random_state=0), param_grid=param_grid, cv=3, return_train_score=True, n_jobs=-1)  \n",
    "grid.fit(X_train, y_train)\n",
    "scores = pd.DataFrame(grid.cv_results_)\n",
    "scores.plot(x='param_min_samples_leaf', y=['mean_train_score', 'mean_test_score'], ax=plt.gca())\n",
    "plt.legend(loc=(1, 0))\n",
    "plt.show()"
   ]
  },
  {
   "cell_type": "markdown",
   "metadata": {},
   "source": [
    "Below, the train and test set score are slowly converging to each other, which means that higher min_samples_split results in less overfitting. Note that test score increases for a higher value of this parameter. Hence, it is quite logical we choose a high optimal value of the parameter min_samples_split in the earlier gridsearches"
   ]
  },
  {
   "cell_type": "code",
   "execution_count": 39,
   "metadata": {},
   "outputs": [
    {
     "data": {
      "image/png": "[encoded data removed]",
      "text/plain": [
       "<Figure size 432x288 with 1 Axes>"
      ]
     },
     "metadata": {
      "needs_background": "light"
     },
     "output_type": "display_data"
    }
   ],
   "source": [
    "param_grid = {'min_samples_split':np.arange(1,30,1)}\n",
    "grid = GridSearchCV(RandomForestClassifier(random_state=0), param_grid=param_grid, cv=3, return_train_score=True, n_jobs=-1)  \n",
    "grid.fit(X_train, y_train)\n",
    "scores = pd.DataFrame(grid.cv_results_)\n",
    "scores.plot(x='param_min_samples_split', y=['mean_train_score', 'mean_test_score'], ax=plt.gca())\n",
    "plt.legend(loc=(1, 0))\n",
    "plt.show()"
   ]
  },
  {
   "cell_type": "markdown",
   "metadata": {},
   "source": [
    "For the n_estimators parameter, seen below, it is difficult to find an optimal value. The functions of test and trainings score are comparable, the only big difference is the intercept. So we can't fix the over- or underfitting for this, since the test and train score do not come to each other. Note that both scores for n_estimators increase for a higher value of this parameter. "
   ]
  },
  {
   "cell_type": "code",
   "execution_count": 40,
   "metadata": {},
   "outputs": [
    {
     "data": {
      "image/png": "[encoded data removed]",
      "text/plain": [
       "<Figure size 432x288 with 1 Axes>"
      ]
     },
     "metadata": {
      "needs_background": "light"
     },
     "output_type": "display_data"
    }
   ],
   "source": [
    "param_grid = {'n_estimators':np.arange(1,30,1)}\n",
    "grid = GridSearchCV(RandomForestClassifier(random_state=0), param_grid=param_grid, cv=3, return_train_score=True, n_jobs=-1)  \n",
    "grid.fit(X_train, y_train)\n",
    "scores = pd.DataFrame(grid.cv_results_)\n",
    "scores.plot(x='param_n_estimators', y=['mean_train_score', 'mean_test_score'], ax=plt.gca())\n",
    "plt.legend(loc=(1, 0))\n",
    "plt.show()"
   ]
  },
  {
   "cell_type": "markdown",
   "metadata": {},
   "source": [
    "From these plots, we conclude that it is important to select the parameters carefully. Otherwise, there could be a big gap between the scores which means there is overfitting. Not choosing parameters carefully could also lead to a lower test score, which is also not preferable."
   ]
  },
  {
   "cell_type": "markdown",
   "metadata": {},
   "source": [
    "# Evaluation metrics for the DecisionTreeClassifier\n",
    "As can be seen in the three code blocks below, the evaluation metrics of all three versions of the DecisionTree model are very close to each other. This is somewhat surprising, but on the other hand not so much, given that the accuracy scores of these versions were very close as well.\n",
    "\n",
    "We can see that precision is 0.65 for the DecisionTreeClassifier models, while recall ranges from 0.54 to 0.55. The F1-score ranges from 0.59 to 0.60. The macro and weighted averages are also almost the same for all three models, with differences of at most 0.01. Lastly, the ROC AUC score of these models are almost the same; MinMaxScaler has the lowest value with 0.74 and StandardScaler the highest with 0.75.\n",
    "\n",
    "In this model precision is higher than recall, meaning the models will have fewer false positives, but a higher number of false negatives. The AUC-score is comparable for all three versions of the model, but if we have to choose a winner, it would be the model with StandardScaler "
   ]
  },
  {
   "cell_type": "code",
   "execution_count": 41,
   "metadata": {},
   "outputs": [
    {
     "name": "stdout",
     "output_type": "stream",
     "text": [
      "              precision    recall  f1-score   support\n",
      "\n",
      "           0       0.91      0.94      0.92      2559\n",
      "           1       0.64      0.54      0.59       524\n",
      "\n",
      "    accuracy                           0.87      3083\n",
      "   macro avg       0.78      0.74      0.76      3083\n",
      "weighted avg       0.86      0.87      0.87      3083\n",
      "\n",
      "ROC Area Under the Curve score: 0.7401209322582475\n"
     ]
    }
   ],
   "source": [
    "dtc_no_y_pred = dtc_no_grid.predict(X_test)\n",
    "\n",
    "print(classification_report(y_test, dtc_no_y_pred))\n",
    "\n",
    "print(f\"ROC Area Under the Curve score: {roc_auc_score(y_test, dtc_no_y_pred)}\")"
   ]
  },
  {
   "cell_type": "code",
   "execution_count": 42,
   "metadata": {},
   "outputs": [
    {
     "name": "stdout",
     "output_type": "stream",
     "text": [
      "              precision    recall  f1-score   support\n",
      "\n",
      "           0       0.91      0.94      0.92      2559\n",
      "           1       0.65      0.54      0.59       524\n",
      "\n",
      "    accuracy                           0.87      3083\n",
      "   macro avg       0.78      0.74      0.76      3083\n",
      "weighted avg       0.86      0.87      0.87      3083\n",
      "\n",
      "ROC Area Under the Curve score: 0.7414659083790484\n"
     ]
    }
   ],
   "source": [
    "dtc_ss_y_pred = dtc_ss_grid.predict(X_test)\n",
    "\n",
    "print(classification_report(y_test, dtc_ss_y_pred))\n",
    "\n",
    "print(f\"ROC Area Under the Curve score: {roc_auc_score(y_test, dtc_ss_y_pred)}\")"
   ]
  },
  {
   "cell_type": "code",
   "execution_count": 43,
   "metadata": {},
   "outputs": [
    {
     "name": "stdout",
     "output_type": "stream",
     "text": [
      "              precision    recall  f1-score   support\n",
      "\n",
      "           0       0.91      0.94      0.92      2559\n",
      "           1       0.64      0.55      0.59       524\n",
      "\n",
      "    accuracy                           0.87      3083\n",
      "   macro avg       0.78      0.74      0.76      3083\n",
      "weighted avg       0.86      0.87      0.87      3083\n",
      "\n",
      "ROC Area Under the Curve score: 0.7420293292048122\n"
     ]
    }
   ],
   "source": [
    "dtc_mm_y_pred = dtc_mm_grid.predict(X_test)\n",
    "\n",
    "print(classification_report(y_test, dtc_mm_y_pred))\n",
    "\n",
    "print(f\"ROC Area Under the Curve score: {roc_auc_score(y_test, dtc_mm_y_pred)}\")"
   ]
  },
  {
   "cell_type": "markdown",
   "metadata": {},
   "source": [
    "# Evaluation metrics for the RandomForestClassifier\n",
    "Also for the RandomForestClassifier model, it can be seen in the three code blocks below that the evaluation metrics of all three versions of this model are very close to each other. Note that these tables contain almost the same values as the tables from the DecisionTreeClassifier models. \n",
    "\n",
    "We can see that precision ranges from 0.73 to 0.74 for these models. On the other hand, recall ranges from 0.48 to 0.56. The F1-score ranges from 0.58 to 0.63. The macro and weighted averages are also almost the same for all three models, with differences of at most 0.04. Lastly, the ROC AUC score of these models is almost the same; MinMaxScaler has the lowest value with 0.72 and StandardScaler the highest with 0.76. Note that the ROC AUC scores for the RandomForestClassifier are not significantly different from the DecisionTreeClassifier models. \n",
    "\n",
    "In these models precision is higher than recall, meaning the models will have fewer false positives, but a higher number of false negatives. The AUC-score is comparable for all three versions of the model, but if we have to choose a winner, it would be the model without any scaling. "
   ]
  },
  {
   "cell_type": "code",
   "execution_count": 44,
   "metadata": {},
   "outputs": [
    {
     "name": "stdout",
     "output_type": "stream",
     "text": [
      "              precision    recall  f1-score   support\n",
      "\n",
      "           0       0.91      0.96      0.93      2559\n",
      "           1       0.70      0.52      0.60       524\n",
      "\n",
      "    accuracy                           0.88      3083\n",
      "   macro avg       0.81      0.74      0.76      3083\n",
      "weighted avg       0.87      0.88      0.87      3083\n",
      "\n",
      "ROC Area Under the Curve score: 0.736313460350984\n"
     ]
    }
   ],
   "source": [
    "rfc_no_y_pred = rfc_no_grid.predict(X_test)\n",
    "\n",
    "print(classification_report(y_test, rfc_no_y_pred))\n",
    "\n",
    "print(f\"ROC Area Under the Curve score: {roc_auc_score(y_test, rfc_no_y_pred)}\")"
   ]
  },
  {
   "cell_type": "code",
   "execution_count": 45,
   "metadata": {},
   "outputs": [
    {
     "name": "stdout",
     "output_type": "stream",
     "text": [
      "              precision    recall  f1-score   support\n",
      "\n",
      "           0       0.91      0.96      0.93      2559\n",
      "           1       0.74      0.51      0.60       524\n",
      "\n",
      "    accuracy                           0.89      3083\n",
      "   macro avg       0.82      0.74      0.77      3083\n",
      "weighted avg       0.88      0.89      0.88      3083\n",
      "\n",
      "ROC Area Under the Curve score: 0.7360136652855213\n"
     ]
    }
   ],
   "source": [
    "rfc_ss_y_pred = rfc_ss_grid.predict(X_test)\n",
    "\n",
    "print(classification_report(y_test, rfc_ss_y_pred))\n",
    "\n",
    "print(f\"ROC Area Under the Curve score: {roc_auc_score(y_test, rfc_ss_y_pred)}\")"
   ]
  },
  {
   "cell_type": "code",
   "execution_count": 46,
   "metadata": {},
   "outputs": [
    {
     "name": "stdout",
     "output_type": "stream",
     "text": [
      "              precision    recall  f1-score   support\n",
      "\n",
      "           0       0.91      0.95      0.93      2559\n",
      "           1       0.69      0.51      0.59       524\n",
      "\n",
      "    accuracy                           0.88      3083\n",
      "   macro avg       0.80      0.73      0.76      3083\n",
      "weighted avg       0.87      0.88      0.87      3083\n",
      "\n",
      "ROC Area Under the Curve score: 0.7324739208123402\n"
     ]
    }
   ],
   "source": [
    "rfc_mm_y_pred = rfc_mm_grid.predict(X_test)\n",
    "\n",
    "print(classification_report(y_test, rfc_mm_y_pred))\n",
    "\n",
    "print(f\"ROC Area Under the Curve score: {roc_auc_score(y_test, rfc_mm_y_pred)}\")"
   ]
  },
  {
   "cell_type": "markdown",
   "metadata": {},
   "source": [
    "# Final conclusion\n",
    "After having taken a look at all versions of all models, we can see that there are only small differences in performance between the versions and models. \n",
    "\n",
    "For the DecisionTreeClassifier model, the best performing version is the model with StandardScaler, but the differences between the AUC-score of each scaling type are very small.\n",
    "\n",
    "For the RandomForestClassifier models, the version with StandardScaler is the best performing version. And again, the differences between the AUC-score of each scaling type are very small. Note that the AUC-scores of the DecisionTreeClassifier and RandomForestClassifier models are very much comparable. \n",
    "\n",
    "Looking at all five models used in assignment 2A and 2B, it is clear that the DecisionTreeClassifier and RandomForestClassifier models have the best scores. If we have to choose between these two models, we prefer the RandomForestClassifier model with StandardScaler, since the scores for this model are slightly higher. "
   ]
  },
  {
   "cell_type": "markdown",
   "metadata": {},
   "source": [
    "# Answers to questions\n",
    "The answers to the two questions asked in the RandomForestClassifier part of the assignment can be found below:\n",
    "\n",
    "1. The difference between decision trees and random forests is that a random forest is basically a forest of randomly created decision trees. It combines the output of multiple decision trees, which is used to the final scores. To summarize, a decision tree is a model that creates one tree that can be used to compute test set scores, whereas a random forest takes multiple decision trees and uses those to compute test set scores.\n",
    "2. Decision trees could be used to keep a model simple to understand. Given that a decision tree only generates one tree, this can be very easy to visualize and interpret. For example, to show what happens to revenue if there is (or is not) a special day close to the page visit day. A random forest on the other hand is more elaborate, thus harder to interpret. But, when a decision tree is deep, it is sensitive for overfitting and then the random forest becomes more suitable."
   ]
  }
 ],
 "metadata": {
  "kernelspec": {
   "display_name": "Python 3",
   "language": "python",
   "name": "python3"
  },
  "language_info": {
   "codemirror_mode": {
    "name": "ipython",
    "version": 3
   },
   "file_extension": ".py",
   "mimetype": "text/x-python",
   "name": "python",
   "nbconvert_exporter": "python",
   "pygments_lexer": "ipython3",
   "version": "3.7.4"
  }
 },
 "nbformat": 4,
 "nbformat_minor": 4
}
