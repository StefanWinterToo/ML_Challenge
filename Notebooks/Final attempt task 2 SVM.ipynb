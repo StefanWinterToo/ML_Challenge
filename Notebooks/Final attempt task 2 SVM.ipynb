{
 "cells": [
  {
   "cell_type": "markdown",
   "metadata": {},
   "source": [
    "# Importing functions and loading the data set"
   ]
  },
  {
   "cell_type": "code",
   "execution_count": 1,
   "metadata": {},
   "outputs": [],
   "source": [
    "import numpy as np\n",
    "import os\n",
    "import cv2\n",
    "import sys\n",
    "from matplotlib import pyplot as plt\n",
    "from sklearn.svm import SVC\n",
    "from sklearn.metrics import accuracy_score\n",
    "from sklearn.pipeline import make_pipeline\n",
    "from sklearn.decomposition import PCA"
   ]
  },
  {
   "cell_type": "code",
   "execution_count": 2,
   "metadata": {},
   "outputs": [
    {
     "ename": "FileNotFoundError",
     "evalue": "[WinError 3] The system cannot find the path specified: 'data/sample_dataset/'",
     "output_type": "error",
     "traceback": [
      "\u001b[1;31m---------------------------------------------------------------------------\u001b[0m",
      "\u001b[1;31mFileNotFoundError\u001b[0m                         Traceback (most recent call last)",
      "\u001b[1;32m<ipython-input-2-2f823e025b71>\u001b[0m in \u001b[0;36m<module>\u001b[1;34m\u001b[0m\n\u001b[0;32m      9\u001b[0m \u001b[1;33m\u001b[0m\u001b[0m\n\u001b[0;32m     10\u001b[0m \u001b[0mpath\u001b[0m \u001b[1;33m=\u001b[0m \u001b[1;34m\"data/sample_dataset/\"\u001b[0m\u001b[1;33m\u001b[0m\u001b[1;33m\u001b[0m\u001b[0m\n\u001b[1;32m---> 11\u001b[1;33m \u001b[0mimages\u001b[0m \u001b[1;33m=\u001b[0m \u001b[0mload_images_from_folder\u001b[0m\u001b[1;33m(\u001b[0m\u001b[0mpath\u001b[0m\u001b[1;33m)\u001b[0m\u001b[1;33m\u001b[0m\u001b[1;33m\u001b[0m\u001b[0m\n\u001b[0m",
      "\u001b[1;32m<ipython-input-2-2f823e025b71>\u001b[0m in \u001b[0;36mload_images_from_folder\u001b[1;34m(folder)\u001b[0m\n\u001b[0;32m      1\u001b[0m \u001b[1;32mdef\u001b[0m \u001b[0mload_images_from_folder\u001b[0m\u001b[1;33m(\u001b[0m\u001b[0mfolder\u001b[0m\u001b[1;33m)\u001b[0m\u001b[1;33m:\u001b[0m\u001b[1;33m\u001b[0m\u001b[1;33m\u001b[0m\u001b[0m\n\u001b[0;32m      2\u001b[0m     \u001b[0mimages\u001b[0m \u001b[1;33m=\u001b[0m \u001b[1;33m[\u001b[0m\u001b[1;33m]\u001b[0m\u001b[1;33m\u001b[0m\u001b[1;33m\u001b[0m\u001b[0m\n\u001b[1;32m----> 3\u001b[1;33m     \u001b[1;32mfor\u001b[0m \u001b[0mfile\u001b[0m \u001b[1;32min\u001b[0m \u001b[0mos\u001b[0m\u001b[1;33m.\u001b[0m\u001b[0mlistdir\u001b[0m\u001b[1;33m(\u001b[0m\u001b[0mfolder\u001b[0m\u001b[1;33m)\u001b[0m\u001b[1;33m:\u001b[0m\u001b[1;33m\u001b[0m\u001b[1;33m\u001b[0m\u001b[0m\n\u001b[0m\u001b[0;32m      4\u001b[0m         \u001b[0mimg\u001b[0m \u001b[1;33m=\u001b[0m \u001b[0mcv2\u001b[0m\u001b[1;33m.\u001b[0m\u001b[0mimread\u001b[0m\u001b[1;33m(\u001b[0m\u001b[0mos\u001b[0m\u001b[1;33m.\u001b[0m\u001b[0mpath\u001b[0m\u001b[1;33m.\u001b[0m\u001b[0mjoin\u001b[0m\u001b[1;33m(\u001b[0m\u001b[0mfolder\u001b[0m\u001b[1;33m,\u001b[0m \u001b[0mfile\u001b[0m\u001b[1;33m)\u001b[0m\u001b[1;33m,\u001b[0m \u001b[0mcv2\u001b[0m\u001b[1;33m.\u001b[0m\u001b[0mIMREAD_GRAYSCALE\u001b[0m\u001b[1;33m)\u001b[0m\u001b[1;33m\u001b[0m\u001b[1;33m\u001b[0m\u001b[0m\n\u001b[0;32m      5\u001b[0m         \u001b[1;32mif\u001b[0m \u001b[0mimg\u001b[0m \u001b[1;32mis\u001b[0m \u001b[1;32mnot\u001b[0m \u001b[1;32mNone\u001b[0m\u001b[1;33m:\u001b[0m\u001b[1;33m\u001b[0m\u001b[1;33m\u001b[0m\u001b[0m\n",
      "\u001b[1;31mFileNotFoundError\u001b[0m: [WinError 3] The system cannot find the path specified: 'data/sample_dataset/'"
     ]
    }
   ],
   "source": [
    "def load_images_from_folder(folder):\n",
    "    images = []\n",
    "    for file in os.listdir(folder):\n",
    "        img = cv2.imread(os.path.join(folder, file), cv2.IMREAD_GRAYSCALE)\n",
    "        if img is not None:\n",
    "            images.append(img)\n",
    "    \n",
    "    return images\n",
    "\n",
    "path = \"data/sample_dataset/\"\n",
    "images = load_images_from_folder(path)"
   ]
  },
  {
   "cell_type": "code",
   "execution_count": null,
   "metadata": {},
   "outputs": [],
   "source": [
    "plt.imshow(images[0], cmap=\"gray\")\n",
    "plt.show()"
   ]
  },
  {
   "cell_type": "code",
   "execution_count": 4,
   "metadata": {},
   "outputs": [],
   "source": [
    "def load_data():\n",
    "    with np.load(\"data/train_data_label.npz\") as data:\n",
    "        train_data = data[\"train_data\"]\n",
    "        train_label = data[\"train_label\"]\n",
    "    \n",
    "    with np.load(\"data/test_data_label.npz\") as data:\n",
    "        test_data = data[\"test_data\"]\n",
    "        test_label = data[\"test_label\"]\n",
    "\n",
    "    return train_data, train_label, test_data, test_label\n",
    "\n",
    "X_train, y_train, X_test, y_test = load_data()"
   ]
  },
  {
   "cell_type": "code",
   "execution_count": 5,
   "metadata": {},
   "outputs": [
    {
     "name": "stdout",
     "output_type": "stream",
     "text": [
      "0.9998178838098707\n",
      "0.8653095370886782\n"
     ]
    }
   ],
   "source": [
    "SVC = make_pipeline(PCA(n_components = 0.91), SVC(kernel = \"rbf\"))\n",
    "SVC.fit(X_train, y_train)\n",
    "\n",
    "print(SVC.score(X_train, y_train))\n",
    "\n",
    "y_pred = SVC.predict(X_test)\n",
    "print(accuracy_score(y_test, y_pred))\n"
   ]
  },
  {
   "cell_type": "markdown",
   "metadata": {},
   "source": [
    "# Writing a function to find the top-left corner of each hand based on edge detection"
   ]
  },
  {
   "cell_type": "code",
   "execution_count": 6,
   "metadata": {},
   "outputs": [
    {
     "name": "stderr",
     "output_type": "stream",
     "text": [
      "<ipython-input-6-59d74303709e>:13: RuntimeWarning: overflow encountered in ubyte_scalars\n",
      "  if edged_image[0][i] + edged_image[0][i+1] + edged_image[0][i+2] + edged_image[0][i+3] + \\\n"
     ]
    }
   ],
   "source": [
    "def hand_finder(images):\n",
    "    hands = []\n",
    "    \n",
    "    if len(images) != 28:\n",
    "        for image in images:    \n",
    "            img_result = []\n",
    "            \n",
    "            edged_image = cv2.Canny(image, 100, 200)\n",
    "\n",
    "            i = 0\n",
    "\n",
    "            while i < 191:\n",
    "                if edged_image[0][i] + edged_image[0][i+1] + edged_image[0][i+2] + edged_image[0][i+3] + \\\n",
    "                edged_image[0][i+4] + edged_image[0][i+5] + edged_image[0][i+6] + edged_image[0][i+7] + \\\n",
    "                edged_image[0][i+8] + edged_image[0][i+9] == 0:\n",
    "                    img_result.append(i)\n",
    "                    i += 27\n",
    "                i += 1\n",
    "            \n",
    "            hands.append(img_result)\n",
    "\n",
    "    else:\n",
    "        edged_image = cv2.Canny(images, 100,200)\n",
    "\n",
    "        i = 0\n",
    "\n",
    "        while i < 191:\n",
    "            if edged_image[0][i] + edged_image[0][i+1] + edged_image[0][i+2] + edged_image[0][i+3] + \\\n",
    "            edged_image[0][i+4] + edged_image[0][i+5] + edged_image[0][i+6] + edged_image[0][i+7] + \\\n",
    "            edged_image[0][i+8] + edged_image[0][i+9] == 0:\n",
    "                hands.append(i)\n",
    "                i += 27\n",
    "            i += 1\n",
    "\n",
    "    return hands\n",
    "    \n",
    "hands_found = hand_finder(images)"
   ]
  },
  {
   "cell_type": "markdown",
   "metadata": {},
   "source": [
    "# Writing a function to extract all values corresponding to each hand in every image"
   ]
  },
  {
   "cell_type": "code",
   "execution_count": 7,
   "metadata": {
    "scrolled": true
   },
   "outputs": [],
   "source": [
    "def hand_locator(images, hands):\n",
    "    all_imgs = []\n",
    "\n",
    "    for idx, val in enumerate(hands):\n",
    "        imgs = []\n",
    "\n",
    "        for j in val:\n",
    "            img = []\n",
    "            \n",
    "            if j <= 3:\n",
    "                if j <= 171:\n",
    "                    for i in range(5):\n",
    "                        hand = images[idx][:28, j+i:j+i+28]\n",
    "                        img.append(hand)\n",
    "                else:\n",
    "                    for i in range(5):\n",
    "                        hand = np.ones(28*28).reshape(28,28)\n",
    "                        img.append(hand)\n",
    "            else:\n",
    "                if j <= 171:\n",
    "                    for i in range(-3,2):\n",
    "                        hand = images[idx][:28, j+i:j+i+28]\n",
    "                        img.append(hand)\n",
    "                else: \n",
    "                    for i in range(5):\n",
    "                        hand = np.ones(28*28).reshape(28,28)\n",
    "                        img.append(hand)\n",
    "\n",
    "            imgs.append(img)\n",
    "\n",
    "        all_imgs.append(imgs)\n",
    "\n",
    "    return all_imgs\n",
    "\n",
    "all_imgs = hand_locator(images, hands_found)\n"
   ]
  },
  {
   "cell_type": "markdown",
   "metadata": {},
   "source": [
    "# Writing a function that creates 5 predictions for each hand"
   ]
  },
  {
   "cell_type": "code",
   "execution_count": 8,
   "metadata": {
    "scrolled": true
   },
   "outputs": [],
   "source": [
    "def predict(images):\n",
    "    predictions = []\n",
    "    \n",
    "    for image in images:\n",
    "        img = []\n",
    "        \n",
    "        for hand in image:\n",
    "            hands = []\n",
    "            \n",
    "            for diff in hand:\n",
    "                if diff.shape[1] != 28:\n",
    "                    break\n",
    "                else:\n",
    "                    pred = SVC.predict(diff.reshape(1,784))\n",
    "                    hands.append(str(pred[0]))\n",
    "            \n",
    "            img.append(hands)\n",
    "            \n",
    "        predictions.append(img)\n",
    "        \n",
    "    return predictions\n",
    "\n",
    "predictions = predict(all_imgs)\n"
   ]
  },
  {
   "cell_type": "code",
   "execution_count": 9,
   "metadata": {},
   "outputs": [],
   "source": [
    "def beautifier(predictions):\n",
    "    final = [] \n",
    "    for i in predictions:\n",
    "        k = []\n",
    "        \n",
    "        for j in range(5):\n",
    "            y = []\n",
    "            \n",
    "            for x in range(len(i)):\n",
    "                y.append(i[x][j])\n",
    "            \n",
    "            for f in range(len(y)):\n",
    "                y[f] = y[f].zfill(2)\n",
    "            y = \"\".join(y)\n",
    "            \n",
    "            k.append(y)\n",
    "            \n",
    "        final.append(k)\n",
    "   \n",
    "    return final\n",
    "\n",
    "beautified = beautifier(predictions)\n",
    "    "
   ]
  },
  {
   "cell_type": "markdown",
   "metadata": {},
   "source": [
    "# Saving the actual labels of each image to a list"
   ]
  },
  {
   "cell_type": "code",
   "execution_count": 10,
   "metadata": {},
   "outputs": [],
   "source": [
    "def load_true_labels(folder):\n",
    "    labels = []\n",
    "    \n",
    "    for file in os.listdir(folder):\n",
    "        labels.append(file.split(\".\")[0])\n",
    "        \n",
    "    return labels\n",
    "\n",
    "path = \"data/sample_dataset/\"\n",
    "true_labels = load_true_labels(path)"
   ]
  },
  {
   "cell_type": "code",
   "execution_count": 11,
   "metadata": {},
   "outputs": [
    {
     "name": "stdout",
     "output_type": "stream",
     "text": [
      "['0418182407', '152202', '151124', '180019', '1305181420', '08200705', '24131115', '2406', '170204', '0008240417', '08232304', '10081706', '021514', '231807', '0219', '070018', '08000513', '18010222', '19221623', '24220520', '19181012', '2423142413', '0114032020', '06160712', '21230615']\n"
     ]
    }
   ],
   "source": [
    "print(true_labels)"
   ]
  },
  {
   "cell_type": "markdown",
   "metadata": {},
   "source": [
    "# Checking the predictions agains the true labels and calculating accuracy"
   ]
  },
  {
   "cell_type": "code",
   "execution_count": 12,
   "metadata": {},
   "outputs": [],
   "source": [
    "correct = 0\n",
    "incorrect = 0\n",
    "\n",
    "for i in range(len(beautified)):\n",
    "    for j in range(len(beautified[i])):\n",
    "        if beautified[i][j] == true_labels[i]:\n",
    "            correct += 1\n",
    "            break\n",
    "        else:\n",
    "            incorrect += 1"
   ]
  },
  {
   "cell_type": "code",
   "execution_count": 13,
   "metadata": {},
   "outputs": [
    {
     "name": "stdout",
     "output_type": "stream",
     "text": [
      "Number correct: 15 \n",
      "Accuracy: 0.6\n"
     ]
    }
   ],
   "source": [
    "print(f\"Number correct: {correct} \\nAccuracy: {correct/len(true_labels)}\")\n"
   ]
  },
  {
   "cell_type": "markdown",
   "metadata": {},
   "source": [
    "# Making predictions for al 10,000 images in the full data set"
   ]
  },
  {
   "cell_type": "code",
   "execution_count": 14,
   "metadata": {},
   "outputs": [],
   "source": [
    "import time\n",
    "start = time.time()"
   ]
  },
  {
   "cell_type": "code",
   "execution_count": 15,
   "metadata": {},
   "outputs": [
    {
     "name": "stdout",
     "output_type": "stream",
     "text": [
      "(10000, 28, 200)\n"
     ]
    }
   ],
   "source": [
    "dataset = np.load(\"data/test_images_task2.npy\")\n",
    "dataset = dataset.astype('uint8')\n",
    "print(dataset.shape)"
   ]
  },
  {
   "cell_type": "code",
   "execution_count": 16,
   "metadata": {},
   "outputs": [
    {
     "name": "stderr",
     "output_type": "stream",
     "text": [
      "<ipython-input-6-59d74303709e>:13: RuntimeWarning: overflow encountered in ubyte_scalars\n",
      "  if edged_image[0][i] + edged_image[0][i+1] + edged_image[0][i+2] + edged_image[0][i+3] + \\\n"
     ]
    }
   ],
   "source": [
    "hands_found_dataset = hand_finder(dataset)\n",
    "all_img_dataset = hand_locator(dataset, hands_found_dataset)\n",
    "dataset_preds = predict(all_img_dataset)"
   ]
  },
  {
   "cell_type": "code",
   "execution_count": 17,
   "metadata": {},
   "outputs": [
    {
     "name": "stdout",
     "output_type": "stream",
     "text": [
      "It took 325 seconds to make predictions for all 10,000 images. \n",
      "This is 5 minute(s).\n"
     ]
    }
   ],
   "source": [
    "end = time.time()\n",
    "print(f\"It took {round(end-start)} seconds to make predictions for all 10,000 images. \\nThis is {round((end-start)/60)} minute(s).\")\n"
   ]
  },
  {
   "cell_type": "code",
   "execution_count": 18,
   "metadata": {},
   "outputs": [],
   "source": [
    "dataset_final_predictions = beautifier(dataset_preds)"
   ]
  }
 ],
 "metadata": {
  "kernelspec": {
   "display_name": "Python 3",
   "language": "python",
   "name": "python3"
  },
  "language_info": {
   "codemirror_mode": {
    "name": "ipython",
    "version": 3
   },
   "file_extension": ".py",
   "mimetype": "text/x-python",
   "name": "python",
   "nbconvert_exporter": "python",
   "pygments_lexer": "ipython3",
   "version": "3.7.4"
  },
  "metadata": {
   "interpreter": {
    "hash": "31f2aee4e71d21fbe5cf8b01ff0e069b9275f58929596ceb00d14d90e3e16cd6"
   }
  }
 },
 "nbformat": 4,
 "nbformat_minor": 2
}