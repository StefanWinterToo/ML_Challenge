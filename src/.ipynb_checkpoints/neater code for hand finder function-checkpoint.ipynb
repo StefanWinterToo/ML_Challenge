{
 "cells": [
  {
   "cell_type": "code",
   "execution_count": null,
   "metadata": {},
   "outputs": [],
   "source": [
    "def f(edges):\n",
    "    dicti= {}\n",
    "    for i, val in enumerate(edges[0]):\n",
    "        if i<191:\n",
    "            dicti[i]=[]\n",
    "            for j in range(0,10):\n",
    "                dicti[i].append(edges[0][i+j])\n",
    "    return dicti \n",
    "f(edges)"
   ]
  }
 ],
 "metadata": {
  "kernelspec": {
   "display_name": "Python 3",
   "language": "python",
   "name": "python3"
  },
  "language_info": {
   "codemirror_mode": {
    "name": "ipython",
    "version": 3
   },
   "file_extension": ".py",
   "mimetype": "text/x-python",
   "name": "python",
   "nbconvert_exporter": "python",
   "pygments_lexer": "ipython3",
   "version": "3.7.4"
  }
 },
 "nbformat": 4,
 "nbformat_minor": 2
}
