{
 "metadata": {
  "language_info": {
   "codemirror_mode": {
    "name": "ipython",
    "version": 3
   },
   "file_extension": ".py",
   "mimetype": "text/x-python",
   "name": "python",
   "nbconvert_exporter": "python",
   "pygments_lexer": "ipython3",
   "version": "3.7.3"
  },
  "orig_nbformat": 2,
  "kernelspec": {
   "name": "python373jvsc74a57bd031f2aee4e71d21fbe5cf8b01ff0e069b9275f58929596ceb00d14d90e3e16cd6",
   "display_name": "Python 3.7.3 64-bit"
  },
  "metadata": {
   "interpreter": {
    "hash": "31f2aee4e71d21fbe5cf8b01ff0e069b9275f58929596ceb00d14d90e3e16cd6"
   }
  }
 },
 "nbformat": 4,
 "nbformat_minor": 2,
 "cells": [
  {
   "source": [
    "This is Stefan's jupyter notebook to explore the data."
   ],
   "cell_type": "markdown",
   "metadata": {}
  },
  {
   "cell_type": "code",
   "execution_count": 1,
   "metadata": {},
   "outputs": [],
   "source": [
    "import numpy"
   ]
  },
  {
   "cell_type": "code",
   "execution_count": 7,
   "metadata": {},
   "outputs": [],
   "source": [
    "def load_data():\n",
    "    with numpy.load(\"../../data/train_data_label.npz\") as data:\n",
    "        train_data = data[\"train_data\"]\n",
    "        train_label = data[\"train_label\"]\n",
    "    \n",
    "    with numpy.load(\"../../data/test_data_label.npz\") as data:\n",
    "        test_data = data[\"test_data\"]\n",
    "        test_label = data[\"test_label\"]\n",
    "\n",
    "    return train_data, train_label, test_data, test_label"
   ]
  },
  {
   "cell_type": "code",
   "execution_count": 8,
   "metadata": {},
   "outputs": [],
   "source": [
    "X_train, y_train, X_test, y_test = load_data()"
   ]
  },
  {
   "cell_type": "code",
   "execution_count": 15,
   "metadata": {},
   "outputs": [],
   "source": [
    "def plot_ten_images(data, i = 1):\n",
    "    import matplotlib.pyplot as plt\n",
    "    d = data[:i]\n",
    "    for i in range(len(d)):\n",
    "        plt.imshow(d[i].reshape(28,28), cmap=\"gray\")\n",
    "        plt.show()"
   ]
  },
  {
   "cell_type": "code",
   "execution_count": 19,
   "metadata": {},
   "outputs": [
    {
     "output_type": "display_data",
     "data": {
      "text/plain": "<Figure size 432x288 with 1 Axes>",
      "image/svg+xml": "<?xml version=\"1.0\" encoding=\"utf-8\" standalone=\"no\"?>\n<!DOCTYPE svg PUBLIC \"-//W3C//DTD SVG 1.1//EN\"\n  \"http://www.w3.org/Graphics/SVG/1.1/DTD/svg11.dtd\">\n<!-- Created with matplotlib (https://matplotlib.org/) -->\n<svg height=\"248.518125pt\" version=\"1.1\" viewBox=\"0 0 251.565 248.518125\" width=\"251.565pt\" xmlns=\"http://www.w3.org/2000/svg\" xmlns:xlink=\"http://www.w3.org/1999/xlink\">\n <defs>\n  <style type=\"text/css\">\n*{stroke-linecap:butt;stroke-linejoin:round;}\n  </style>\n </defs>\n <g id=\"figure_1\">\n  <g id=\"patch_1\">\n   <path d=\"M 0 248.518125 \nL 251.565 248.518125 \nL 251.565 0 \nL 0 0 \nz\n\" style=\"fill:none;\"/>\n  </g>\n  <g id=\"axes_1\">\n   <g id=\"patch_2\">\n    <path d=\"M 26.925 224.64 \nL 244.365 224.64 \nL 244.365 7.2 \nL 26.925 7.2 \nz\n\" style=\"fill:#ffffff;\"/>\n   </g>\n   <g clip-path=\"url(#pce81cd897d)\">\n    <image height=\"218\" id=\"imageacbd76597e\" transform=\"scale(1 -1)translate(0 -218)\" width=\"218\" x=\"26.925\" xlink:href=\"data:image/png;base64,\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\" y=\"-6.64\"/>\n   </g>\n   <g id=\"matplotlib.axis_1\">\n    <g id=\"xtick_1\">\n     <g id=\"line2d_1\">\n      <defs>\n       <path d=\"M 0 0 \nL 0 3.5 \n\" id=\"m8ceb9458ab\" style=\"stroke:#000000;stroke-width:0.8;\"/>\n      </defs>\n      <g>\n       <use style=\"stroke:#000000;stroke-width:0.8;\" x=\"30.807857\" xlink:href=\"#m8ceb9458ab\" y=\"224.64\"/>\n      </g>\n     </g>\n     <g id=\"text_1\">\n      <!-- 0 -->\n      <defs>\n       <path d=\"M 31.78125 66.40625 \nQ 24.171875 66.40625 20.328125 58.90625 \nQ 16.5 51.421875 16.5 36.375 \nQ 16.5 21.390625 20.328125 13.890625 \nQ 24.171875 6.390625 31.78125 6.390625 \nQ 39.453125 6.390625 43.28125 13.890625 \nQ 47.125 21.390625 47.125 36.375 \nQ 47.125 51.421875 43.28125 58.90625 \nQ 39.453125 66.40625 31.78125 66.40625 \nz\nM 31.78125 74.21875 \nQ 44.046875 74.21875 50.515625 64.515625 \nQ 56.984375 54.828125 56.984375 36.375 \nQ 56.984375 17.96875 50.515625 8.265625 \nQ 44.046875 -1.421875 31.78125 -1.421875 \nQ 19.53125 -1.421875 13.0625 8.265625 \nQ 6.59375 17.96875 6.59375 36.375 \nQ 6.59375 54.828125 13.0625 64.515625 \nQ 19.53125 74.21875 31.78125 74.21875 \nz\n\" id=\"DejaVuSans-48\"/>\n      </defs>\n      <g transform=\"translate(27.626607 239.238437)scale(0.1 -0.1)\">\n       <use xlink:href=\"#DejaVuSans-48\"/>\n      </g>\n     </g>\n    </g>\n    <g id=\"xtick_2\">\n     <g id=\"line2d_2\">\n      <g>\n       <use style=\"stroke:#000000;stroke-width:0.8;\" x=\"69.636429\" xlink:href=\"#m8ceb9458ab\" y=\"224.64\"/>\n      </g>\n     </g>\n     <g id=\"text_2\">\n      <!-- 5 -->\n      <defs>\n       <path d=\"M 10.796875 72.90625 \nL 49.515625 72.90625 \nL 49.515625 64.59375 \nL 19.828125 64.59375 \nL 19.828125 46.734375 \nQ 21.96875 47.46875 24.109375 47.828125 \nQ 26.265625 48.1875 28.421875 48.1875 \nQ 40.625 48.1875 47.75 41.5 \nQ 54.890625 34.8125 54.890625 23.390625 \nQ 54.890625 11.625 47.5625 5.09375 \nQ 40.234375 -1.421875 26.90625 -1.421875 \nQ 22.3125 -1.421875 17.546875 -0.640625 \nQ 12.796875 0.140625 7.71875 1.703125 \nL 7.71875 11.625 \nQ 12.109375 9.234375 16.796875 8.0625 \nQ 21.484375 6.890625 26.703125 6.890625 \nQ 35.15625 6.890625 40.078125 11.328125 \nQ 45.015625 15.765625 45.015625 23.390625 \nQ 45.015625 31 40.078125 35.4375 \nQ 35.15625 39.890625 26.703125 39.890625 \nQ 22.75 39.890625 18.8125 39.015625 \nQ 14.890625 38.140625 10.796875 36.28125 \nz\n\" id=\"DejaVuSans-53\"/>\n      </defs>\n      <g transform=\"translate(66.455179 239.238437)scale(0.1 -0.1)\">\n       <use xlink:href=\"#DejaVuSans-53\"/>\n      </g>\n     </g>\n    </g>\n    <g id=\"xtick_3\">\n     <g id=\"line2d_3\">\n      <g>\n       <use style=\"stroke:#000000;stroke-width:0.8;\" x=\"108.465\" xlink:href=\"#m8ceb9458ab\" y=\"224.64\"/>\n      </g>\n     </g>\n     <g id=\"text_3\">\n      <!-- 10 -->\n      <defs>\n       <path d=\"M 12.40625 8.296875 \nL 28.515625 8.296875 \nL 28.515625 63.921875 \nL 10.984375 60.40625 \nL 10.984375 69.390625 \nL 28.421875 72.90625 \nL 38.28125 72.90625 \nL 38.28125 8.296875 \nL 54.390625 8.296875 \nL 54.390625 0 \nL 12.40625 0 \nz\n\" id=\"DejaVuSans-49\"/>\n      </defs>\n      <g transform=\"translate(102.1025 239.238437)scale(0.1 -0.1)\">\n       <use xlink:href=\"#DejaVuSans-49\"/>\n       <use x=\"63.623047\" xlink:href=\"#DejaVuSans-48\"/>\n      </g>\n     </g>\n    </g>\n    <g id=\"xtick_4\">\n     <g id=\"line2d_4\">\n      <g>\n       <use style=\"stroke:#000000;stroke-width:0.8;\" x=\"147.293571\" xlink:href=\"#m8ceb9458ab\" y=\"224.64\"/>\n      </g>\n     </g>\n     <g id=\"text_4\">\n      <!-- 15 -->\n      <g transform=\"translate(140.931071 239.238437)scale(0.1 -0.1)\">\n       <use xlink:href=\"#DejaVuSans-49\"/>\n       <use x=\"63.623047\" xlink:href=\"#DejaVuSans-53\"/>\n      </g>\n     </g>\n    </g>\n    <g id=\"xtick_5\">\n     <g id=\"line2d_5\">\n      <g>\n       <use style=\"stroke:#000000;stroke-width:0.8;\" x=\"186.122143\" xlink:href=\"#m8ceb9458ab\" y=\"224.64\"/>\n      </g>\n     </g>\n     <g id=\"text_5\">\n      <!-- 20 -->\n      <defs>\n       <path d=\"M 19.1875 8.296875 \nL 53.609375 8.296875 \nL 53.609375 0 \nL 7.328125 0 \nL 7.328125 8.296875 \nQ 12.9375 14.109375 22.625 23.890625 \nQ 32.328125 33.6875 34.8125 36.53125 \nQ 39.546875 41.84375 41.421875 45.53125 \nQ 43.3125 49.21875 43.3125 52.78125 \nQ 43.3125 58.59375 39.234375 62.25 \nQ 35.15625 65.921875 28.609375 65.921875 \nQ 23.96875 65.921875 18.8125 64.3125 \nQ 13.671875 62.703125 7.8125 59.421875 \nL 7.8125 69.390625 \nQ 13.765625 71.78125 18.9375 73 \nQ 24.125 74.21875 28.421875 74.21875 \nQ 39.75 74.21875 46.484375 68.546875 \nQ 53.21875 62.890625 53.21875 53.421875 \nQ 53.21875 48.921875 51.53125 44.890625 \nQ 49.859375 40.875 45.40625 35.40625 \nQ 44.1875 33.984375 37.640625 27.21875 \nQ 31.109375 20.453125 19.1875 8.296875 \nz\n\" id=\"DejaVuSans-50\"/>\n      </defs>\n      <g transform=\"translate(179.759643 239.238437)scale(0.1 -0.1)\">\n       <use xlink:href=\"#DejaVuSans-50\"/>\n       <use x=\"63.623047\" xlink:href=\"#DejaVuSans-48\"/>\n      </g>\n     </g>\n    </g>\n    <g id=\"xtick_6\">\n     <g id=\"line2d_6\">\n      <g>\n       <use style=\"stroke:#000000;stroke-width:0.8;\" x=\"224.950714\" xlink:href=\"#m8ceb9458ab\" y=\"224.64\"/>\n      </g>\n     </g>\n     <g id=\"text_6\">\n      <!-- 25 -->\n      <g transform=\"translate(218.588214 239.238437)scale(0.1 -0.1)\">\n       <use xlink:href=\"#DejaVuSans-50\"/>\n       <use x=\"63.623047\" xlink:href=\"#DejaVuSans-53\"/>\n      </g>\n     </g>\n    </g>\n   </g>\n   <g id=\"matplotlib.axis_2\">\n    <g id=\"ytick_1\">\n     <g id=\"line2d_7\">\n      <defs>\n       <path d=\"M 0 0 \nL -3.5 0 \n\" id=\"m45ca1b2b88\" style=\"stroke:#000000;stroke-width:0.8;\"/>\n      </defs>\n      <g>\n       <use style=\"stroke:#000000;stroke-width:0.8;\" x=\"26.925\" xlink:href=\"#m45ca1b2b88\" y=\"11.082857\"/>\n      </g>\n     </g>\n     <g id=\"text_7\">\n      <!-- 0 -->\n      <g transform=\"translate(13.5625 14.882076)scale(0.1 -0.1)\">\n       <use xlink:href=\"#DejaVuSans-48\"/>\n      </g>\n     </g>\n    </g>\n    <g id=\"ytick_2\">\n     <g id=\"line2d_8\">\n      <g>\n       <use style=\"stroke:#000000;stroke-width:0.8;\" x=\"26.925\" xlink:href=\"#m45ca1b2b88\" y=\"49.911429\"/>\n      </g>\n     </g>\n     <g id=\"text_8\">\n      <!-- 5 -->\n      <g transform=\"translate(13.5625 53.710647)scale(0.1 -0.1)\">\n       <use xlink:href=\"#DejaVuSans-53\"/>\n      </g>\n     </g>\n    </g>\n    <g id=\"ytick_3\">\n     <g id=\"line2d_9\">\n      <g>\n       <use style=\"stroke:#000000;stroke-width:0.8;\" x=\"26.925\" xlink:href=\"#m45ca1b2b88\" y=\"88.74\"/>\n      </g>\n     </g>\n     <g id=\"text_9\">\n      <!-- 10 -->\n      <g transform=\"translate(7.2 92.539219)scale(0.1 -0.1)\">\n       <use xlink:href=\"#DejaVuSans-49\"/>\n       <use x=\"63.623047\" xlink:href=\"#DejaVuSans-48\"/>\n      </g>\n     </g>\n    </g>\n    <g id=\"ytick_4\">\n     <g id=\"line2d_10\">\n      <g>\n       <use style=\"stroke:#000000;stroke-width:0.8;\" x=\"26.925\" xlink:href=\"#m45ca1b2b88\" y=\"127.568571\"/>\n      </g>\n     </g>\n     <g id=\"text_10\">\n      <!-- 15 -->\n      <g transform=\"translate(7.2 131.36779)scale(0.1 -0.1)\">\n       <use xlink:href=\"#DejaVuSans-49\"/>\n       <use x=\"63.623047\" xlink:href=\"#DejaVuSans-53\"/>\n      </g>\n     </g>\n    </g>\n    <g id=\"ytick_5\">\n     <g id=\"line2d_11\">\n      <g>\n       <use style=\"stroke:#000000;stroke-width:0.8;\" x=\"26.925\" xlink:href=\"#m45ca1b2b88\" y=\"166.397143\"/>\n      </g>\n     </g>\n     <g id=\"text_11\">\n      <!-- 20 -->\n      <g transform=\"translate(7.2 170.196362)scale(0.1 -0.1)\">\n       <use xlink:href=\"#DejaVuSans-50\"/>\n       <use x=\"63.623047\" xlink:href=\"#DejaVuSans-48\"/>\n      </g>\n     </g>\n    </g>\n    <g id=\"ytick_6\">\n     <g id=\"line2d_12\">\n      <g>\n       <use style=\"stroke:#000000;stroke-width:0.8;\" x=\"26.925\" xlink:href=\"#m45ca1b2b88\" y=\"205.225714\"/>\n      </g>\n     </g>\n     <g id=\"text_12\">\n      <!-- 25 -->\n      <g transform=\"translate(7.2 209.024933)scale(0.1 -0.1)\">\n       <use xlink:href=\"#DejaVuSans-50\"/>\n       <use x=\"63.623047\" xlink:href=\"#DejaVuSans-53\"/>\n      </g>\n     </g>\n    </g>\n   </g>\n   <g id=\"patch_3\">\n    <path d=\"M 26.925 224.64 \nL 26.925 7.2 \n\" style=\"fill:none;stroke:#000000;stroke-linecap:square;stroke-linejoin:miter;stroke-width:0.8;\"/>\n   </g>\n   <g id=\"patch_4\">\n    <path d=\"M 244.365 224.64 \nL 244.365 7.2 \n\" style=\"fill:none;stroke:#000000;stroke-linecap:square;stroke-linejoin:miter;stroke-width:0.8;\"/>\n   </g>\n   <g id=\"patch_5\">\n    <path d=\"M 26.925 224.64 \nL 244.365 224.64 \n\" style=\"fill:none;stroke:#000000;stroke-linecap:square;stroke-linejoin:miter;stroke-width:0.8;\"/>\n   </g>\n   <g id=\"patch_6\">\n    <path d=\"M 26.925 7.2 \nL 244.365 7.2 \n\" style=\"fill:none;stroke:#000000;stroke-linecap:square;stroke-linejoin:miter;stroke-width:0.8;\"/>\n   </g>\n  </g>\n </g>\n <defs>\n  <clipPath id=\"pce81cd897d\">\n   <rect height=\"217.44\" width=\"217.44\" x=\"26.925\" y=\"7.2\"/>\n  </clipPath>\n </defs>\n</svg>\n",
      "image/png": "[encoded data removed]"
     },
     "metadata": {
      "needs_background": "light"
     }
    }
   ],
   "source": [
    "plot_ten_images(X_train, 1)"
   ]
  },
  {
   "cell_type": "code",
   "execution_count": 25,
   "metadata": {},
   "outputs": [
    {
     "output_type": "execute_result",
     "data": {
      "text/plain": [
       "24"
      ]
     },
     "metadata": {},
     "execution_count": 25
    }
   ],
   "source": [
    "max(y_train)"
   ]
  },
  {
   "cell_type": "code",
   "execution_count": null,
   "metadata": {},
   "outputs": [],
   "source": []
  }
 ]
}