{
 "cells": [
  {
   "cell_type": "code",
   "execution_count": 1,
   "metadata": {},
   "outputs": [],
   "source": [
    "import numpy as np\n",
    "import matplotlib.pyplot as plt\n",
    "from sklearn.preprocessing import StandardScaler\n",
    "from sklearn.decomposition import PCA\n",
    "from sklearn.model_selection import train_test_split, GridSearchCV\n",
    "from sklearn.metrics import classification_report\n",
    "from sklearn.pipeline import make_pipeline\n",
    "from sklearn.ensemble import RandomForestClassifier"
   ]
  },
  {
   "cell_type": "code",
   "execution_count": 2,
   "metadata": {},
   "outputs": [],
   "source": [
    "def load_data():\n",
    "    with np.load(\"data/train_data_label.npz\") as data:\n",
    "        train_data = data[\"train_data\"]\n",
    "        train_label = data[\"train_label\"]\n",
    "    \n",
    "    with np.load(\"data/test_data_label.npz\") as data:\n",
    "        test_data = data[\"test_data\"]\n",
    "        test_label = data[\"test_label\"]\n",
    "\n",
    "    return train_data, train_label, test_data, test_label"
   ]
  },
  {
   "cell_type": "code",
   "execution_count": 3,
   "metadata": {},
   "outputs": [],
   "source": [
    "X_train, y_train, X_test, y_test = load_data()"
   ]
  },
  {
   "cell_type": "code",
   "execution_count": 4,
   "metadata": {},
   "outputs": [
    {
     "name": "stdout",
     "output_type": "stream",
     "text": [
      "1.0\n",
      "0.8099553820412716\n",
      "              precision    recall  f1-score   support\n",
      "\n",
      "           0       0.91      1.00      0.95       331\n",
      "           1       0.98      0.94      0.96       432\n",
      "           2       0.93      0.98      0.95       310\n",
      "           3       0.90      0.97      0.93       245\n",
      "           4       0.88      0.98      0.92       498\n",
      "           5       0.95      0.91      0.93       247\n",
      "           6       0.93      0.84      0.89       348\n",
      "           7       1.00      0.92      0.96       436\n",
      "           8       0.78      0.77      0.78       288\n",
      "          10       0.73      0.64      0.68       331\n",
      "          11       0.78      1.00      0.88       209\n",
      "          12       0.88      0.68      0.77       394\n",
      "          13       0.73      0.55      0.63       291\n",
      "          14       0.96      0.88      0.92       246\n",
      "          15       0.92      1.00      0.96       347\n",
      "          16       0.94      1.00      0.97       164\n",
      "          17       0.29      0.64      0.40       144\n",
      "          18       0.57      0.71      0.63       246\n",
      "          19       0.53      0.79      0.64       248\n",
      "          20       0.70      0.61      0.65       266\n",
      "          21       0.83      0.58      0.68       346\n",
      "          22       0.52      0.61      0.56       206\n",
      "          23       0.83      0.75      0.78       267\n",
      "          24       0.91      0.54      0.68       332\n",
      "\n",
      "    accuracy                           0.81      7172\n",
      "   macro avg       0.81      0.80      0.79      7172\n",
      "weighted avg       0.83      0.81      0.81      7172\n",
      "\n"
     ]
    }
   ],
   "source": [
    "rf = RandomForestClassifier(n_jobs=-1, random_state=999).fit(X_train, y_train)\n",
    "\n",
    "print(rf.score(X_train, y_train))\n",
    "print(rf.score(X_test, y_test))\n",
    "\n",
    "y_pred = rf.predict(X_test)\n",
    "\n",
    "print(classification_report(y_test, y_pred))"
   ]
  },
  {
   "cell_type": "code",
   "execution_count": 5,
   "metadata": {},
   "outputs": [
    {
     "name": "stdout",
     "output_type": "stream",
     "text": [
      "Training set score: 1.0\n",
      "Test set score: 0.7930842163970998\n",
      "Best parameters: {'pca__n_components': 0.8500000000000001}\n"
     ]
    }
   ],
   "source": [
    "rf = make_pipeline(PCA(), RandomForestClassifier(n_jobs=-1, random_state=999))\n",
    "\n",
    "rf_param_grid = {\"pca__n_components\":np.arange(0.75, 1, 0.05)}\n",
    "rf_grid = GridSearchCV(rf, rf_param_grid, cv=5, n_jobs=-1)\n",
    "rf_grid.fit(X_train, y_train)\n",
    "\n",
    "print(f\"Training set score: {rf_grid.score(X_train, y_train)}\")\n",
    "print(f\"Test set score: {rf_grid.score(X_test, y_test)}\")\n",
    "print(f\"Best parameters: {rf_grid.best_params_}\")\n"
   ]
  },
  {
   "cell_type": "code",
   "execution_count": null,
   "metadata": {},
   "outputs": [],
   "source": [
    "rf = make_pipeline(PCA(), RandomForestClassifier(n_jobs=-1, random_state=999))\n",
    "\n",
    "rf_param_grid = {\"pca__n_components\":np.arange(0.75, 1, 0.05),\n",
    "                 \"randomforestclassifier__max_depth\":np.arange(1, 20, 1),\n",
    "                 \"randomforestclassifier__max_features\":np.arange(1, 20, 1),\n",
    "                 \"randomforestclassifier__min_samples_leaf\":np.arange(1, 20, 1),\n",
    "                 \"randomforestclassifier__min_samples_split\":np.arange(1, 20, 1),\n",
    "                 \"randomforestclassifier__n_estimators\":np.arange(1, 20, 1)}\n",
    "rf_grid = GridSearchCV(rf, rf_param_grid, cv=5, n_jobs=-1)\n",
    "rf_grid.fit(X_train, y_train)\n",
    "\n",
    "print(f\"Training set score: {rf_grid.score(X_train, y_train)}\")\n",
    "print(f\"Test set score: {rf_grid.score(X_test, y_test)}\")\n",
    "print(f\"Best parameters: {rf_grid.best_params_}\")\n"
   ]
  },
  {
   "cell_type": "markdown",
   "metadata": {},
   "source": [
    "- pca__n_components = 0.85\n",
    "- randomforestclassifier__max_depth = 12\n",
    "- randomforestclassifier__max_features = 5\n",
    "- randomforestclassifier__min_samples_leaf = 1\n",
    "- randomforestclassifier__min_samples_split = 2\n",
    "- randomforestclassifier__n_estimators = 19"
   ]
  },
  {
   "cell_type": "code",
   "execution_count": 6,
   "metadata": {},
   "outputs": [
    {
     "name": "stdout",
     "output_type": "stream",
     "text": [
      "Training set score: 0.9993443817155345\n",
      "Test set score: 0.6988287785833798 \n",
      "\n",
      "              precision    recall  f1-score   support\n",
      "\n",
      "           0       0.88      0.99      0.93       331\n",
      "           1       0.91      0.75      0.82       432\n",
      "           2       0.88      0.91      0.90       310\n",
      "           3       0.63      0.78      0.70       245\n",
      "           4       0.90      0.93      0.92       498\n",
      "           5       0.79      0.78      0.78       247\n",
      "           6       0.78      0.71      0.74       348\n",
      "           7       0.91      0.86      0.88       436\n",
      "           8       0.51      0.44      0.47       288\n",
      "          10       0.64      0.49      0.55       331\n",
      "          11       0.77      0.88      0.82       209\n",
      "          12       0.66      0.51      0.58       394\n",
      "          13       0.53      0.46      0.49       291\n",
      "          14       0.85      0.72      0.78       246\n",
      "          15       0.94      1.00      0.97       347\n",
      "          16       0.74      0.93      0.82       164\n",
      "          17       0.26      0.56      0.35       144\n",
      "          18       0.57      0.72      0.64       246\n",
      "          19       0.48      0.66      0.55       248\n",
      "          20       0.41      0.43      0.42       266\n",
      "          21       0.76      0.48      0.59       346\n",
      "          22       0.31      0.49      0.38       206\n",
      "          23       0.68      0.65      0.66       267\n",
      "          24       0.72      0.45      0.55       332\n",
      "\n",
      "    accuracy                           0.70      7172\n",
      "   macro avg       0.69      0.69      0.68      7172\n",
      "weighted avg       0.72      0.70      0.70      7172\n",
      "\n"
     ]
    }
   ],
   "source": [
    "rf = make_pipeline(PCA(0.85), RandomForestClassifier(max_depth = 12, \n",
    "                                                     max_features = 5,\n",
    "                                                     min_samples_leaf = 1,\n",
    "                                                     min_samples_split = 2,\n",
    "                                                     n_estimators = 19,\n",
    "                                                     n_jobs = -1,\n",
    "                                                     random_state = 999))\n",
    "\n",
    "rf.fit(X_train, y_train)\n",
    "\n",
    "y_pred = rf.predict(X_test)\n",
    "\n",
    "print(f\"Training set score: {rf.score(X_train, y_train)}\")\n",
    "print(f\"Test set score: {rf.score(X_test, y_test)} \\n\")\n",
    "\n",
    "print(classification_report(y_test, y_pred))"
   ]
  },
  {
   "cell_type": "code",
   "execution_count": null,
   "metadata": {},
   "outputs": [],
   "source": []
  }
 ],
 "metadata": {
  "kernelspec": {
   "display_name": "Python 3",
   "language": "python",
   "name": "python3"
  },
  "language_info": {
   "codemirror_mode": {
    "name": "ipython",
    "version": 3
   },
   "file_extension": ".py",
   "mimetype": "text/x-python",
   "name": "python",
   "nbconvert_exporter": "python",
   "pygments_lexer": "ipython3",
   "version": "3.8.3"
  },
  "metadata": {
   "interpreter": {
    "hash": "31f2aee4e71d21fbe5cf8b01ff0e069b9275f58929596ceb00d14d90e3e16cd6"
   }
  }
 },
 "nbformat": 4,
 "nbformat_minor": 2
}
